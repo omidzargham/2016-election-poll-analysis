{
 "cells": [
  {
   "cell_type": "markdown",
   "metadata": {},
   "source": [
    "Let's import data from our previous notebooks:"
   ]
  },
  {
   "cell_type": "code",
   "execution_count": 1,
   "metadata": {
    "collapsed": true
   },
   "outputs": [],
   "source": [
    "import pandas as pd\n",
    "p_only = pd.read_hdf(\"results/df1.h5\", 'p_only')\n",
    "results=pd.read_hdf('results/df4.h5', 'results')"
   ]
  },
  {
   "cell_type": "code",
   "execution_count": 2,
   "metadata": {
    "scrolled": true
   },
   "outputs": [
    {
     "data": {
      "text/html": [
       "<div>\n",
       "<style>\n",
       "    .dataframe thead tr:only-child th {\n",
       "        text-align: right;\n",
       "    }\n",
       "\n",
       "    .dataframe thead th {\n",
       "        text-align: left;\n",
       "    }\n",
       "\n",
       "    .dataframe tbody tr th {\n",
       "        vertical-align: top;\n",
       "    }\n",
       "</style>\n",
       "<table border=\"1\" class=\"dataframe\">\n",
       "  <thead>\n",
       "    <tr style=\"text-align: right;\">\n",
       "      <th></th>\n",
       "      <th>type</th>\n",
       "      <th>state</th>\n",
       "      <th>enddate</th>\n",
       "      <th>pollster</th>\n",
       "      <th>grade</th>\n",
       "      <th>samplesize</th>\n",
       "      <th>population</th>\n",
       "      <th>adjpoll_clinton</th>\n",
       "      <th>adjpoll_trump</th>\n",
       "      <th>poll_id</th>\n",
       "    </tr>\n",
       "  </thead>\n",
       "  <tbody>\n",
       "    <tr>\n",
       "      <th>0</th>\n",
       "      <td>polls-only</td>\n",
       "      <td>U.S.</td>\n",
       "      <td>2016-11-06</td>\n",
       "      <td>ABC News/Washington Post</td>\n",
       "      <td>A+</td>\n",
       "      <td>2220.0</td>\n",
       "      <td>lv</td>\n",
       "      <td>45.21947</td>\n",
       "      <td>41.70754</td>\n",
       "      <td>48630</td>\n",
       "    </tr>\n",
       "    <tr>\n",
       "      <th>1</th>\n",
       "      <td>polls-only</td>\n",
       "      <td>U.S.</td>\n",
       "      <td>2016-11-07</td>\n",
       "      <td>Google Consumer Surveys</td>\n",
       "      <td>B</td>\n",
       "      <td>26574.0</td>\n",
       "      <td>lv</td>\n",
       "      <td>43.40083</td>\n",
       "      <td>41.14659</td>\n",
       "      <td>48847</td>\n",
       "    </tr>\n",
       "    <tr>\n",
       "      <th>2</th>\n",
       "      <td>polls-only</td>\n",
       "      <td>U.S.</td>\n",
       "      <td>2016-11-06</td>\n",
       "      <td>Ipsos</td>\n",
       "      <td>A</td>\n",
       "      <td>2195.0</td>\n",
       "      <td>lv</td>\n",
       "      <td>42.01984</td>\n",
       "      <td>38.74365</td>\n",
       "      <td>48922</td>\n",
       "    </tr>\n",
       "    <tr>\n",
       "      <th>3</th>\n",
       "      <td>polls-only</td>\n",
       "      <td>U.S.</td>\n",
       "      <td>2016-11-07</td>\n",
       "      <td>YouGov</td>\n",
       "      <td>B</td>\n",
       "      <td>3677.0</td>\n",
       "      <td>lv</td>\n",
       "      <td>45.68214</td>\n",
       "      <td>40.90047</td>\n",
       "      <td>48687</td>\n",
       "    </tr>\n",
       "    <tr>\n",
       "      <th>4</th>\n",
       "      <td>polls-only</td>\n",
       "      <td>U.S.</td>\n",
       "      <td>2016-11-06</td>\n",
       "      <td>Gravis Marketing</td>\n",
       "      <td>B</td>\n",
       "      <td>16639.0</td>\n",
       "      <td>rv</td>\n",
       "      <td>46.83107</td>\n",
       "      <td>42.27754</td>\n",
       "      <td>48848</td>\n",
       "    </tr>\n",
       "  </tbody>\n",
       "</table>\n",
       "</div>"
      ],
      "text/plain": [
       "         type state    enddate                  pollster grade  samplesize  \\\n",
       "0  polls-only  U.S. 2016-11-06  ABC News/Washington Post    A+      2220.0   \n",
       "1  polls-only  U.S. 2016-11-07   Google Consumer Surveys     B     26574.0   \n",
       "2  polls-only  U.S. 2016-11-06                     Ipsos     A      2195.0   \n",
       "3  polls-only  U.S. 2016-11-07                    YouGov     B      3677.0   \n",
       "4  polls-only  U.S. 2016-11-06          Gravis Marketing     B     16639.0   \n",
       "\n",
       "  population  adjpoll_clinton  adjpoll_trump  poll_id  \n",
       "0         lv         45.21947       41.70754    48630  \n",
       "1         lv         43.40083       41.14659    48847  \n",
       "2         lv         42.01984       38.74365    48922  \n",
       "3         lv         45.68214       40.90047    48687  \n",
       "4         rv         46.83107       42.27754    48848  "
      ]
     },
     "execution_count": 2,
     "metadata": {},
     "output_type": "execute_result"
    }
   ],
   "source": [
    "p_only.head()"
   ]
  },
  {
   "cell_type": "code",
   "execution_count": 3,
   "metadata": {
    "scrolled": false
   },
   "outputs": [
    {
     "data": {
      "text/html": [
       "<div>\n",
       "<style>\n",
       "    .dataframe thead tr:only-child th {\n",
       "        text-align: right;\n",
       "    }\n",
       "\n",
       "    .dataframe thead th {\n",
       "        text-align: left;\n",
       "    }\n",
       "\n",
       "    .dataframe tbody tr th {\n",
       "        vertical-align: top;\n",
       "    }\n",
       "</style>\n",
       "<table border=\"1\" class=\"dataframe\">\n",
       "  <thead>\n",
       "    <tr style=\"text-align: right;\">\n",
       "      <th></th>\n",
       "      <th>State</th>\n",
       "      <th>Clinton %</th>\n",
       "      <th>Trump %</th>\n",
       "    </tr>\n",
       "  </thead>\n",
       "  <tbody>\n",
       "    <tr>\n",
       "      <th>0</th>\n",
       "      <td>Arizona</td>\n",
       "      <td>45.1%</td>\n",
       "      <td>48.7%</td>\n",
       "    </tr>\n",
       "    <tr>\n",
       "      <th>1</th>\n",
       "      <td>Colorado</td>\n",
       "      <td>48.2%</td>\n",
       "      <td>43.3%</td>\n",
       "    </tr>\n",
       "    <tr>\n",
       "      <th>2</th>\n",
       "      <td>Florida</td>\n",
       "      <td>47.8%</td>\n",
       "      <td>49.0%</td>\n",
       "    </tr>\n",
       "    <tr>\n",
       "      <th>3</th>\n",
       "      <td>Iowa</td>\n",
       "      <td>41.7%</td>\n",
       "      <td>51.1%</td>\n",
       "    </tr>\n",
       "    <tr>\n",
       "      <th>4</th>\n",
       "      <td>Maine</td>\n",
       "      <td>47.8%</td>\n",
       "      <td>44.9%</td>\n",
       "    </tr>\n",
       "  </tbody>\n",
       "</table>\n",
       "</div>"
      ],
      "text/plain": [
       "      State Clinton % Trump %\n",
       "0   Arizona     45.1%   48.7%\n",
       "1  Colorado     48.2%   43.3%\n",
       "2   Florida     47.8%   49.0%\n",
       "3      Iowa     41.7%   51.1%\n",
       "4     Maine     47.8%   44.9%"
      ]
     },
     "execution_count": 3,
     "metadata": {},
     "output_type": "execute_result"
    }
   ],
   "source": [
    "results.head()"
   ]
  },
  {
   "cell_type": "markdown",
   "metadata": {},
   "source": [
    "Let's look at the datatypes of the data we have for Clinton and Trump popular vote percentage:"
   ]
  },
  {
   "cell_type": "code",
   "execution_count": 4,
   "metadata": {},
   "outputs": [
    {
     "name": "stdout",
     "output_type": "stream",
     "text": [
      "object object\n"
     ]
    }
   ],
   "source": [
    "print(results[\"Clinton %\"].dtype, results[\"Trump %\"].dtype)"
   ]
  },
  {
   "cell_type": "markdown",
   "metadata": {},
   "source": [
    "We need to change our results data set into numeric types for future use. To do that, we first need to eliminate all the \"%\" at the end of each data point:"
   ]
  },
  {
   "cell_type": "code",
   "execution_count": 5,
   "metadata": {
    "collapsed": true
   },
   "outputs": [],
   "source": [
    "def remove_percent_signs(df):\n",
    "    \"\"\" Removes percent signs from data points in Clinton and Trump columns of dataframe.\n",
    "    \n",
    "    Parameters\n",
    "    ----------\n",
    "    df : dataframe that needs to get percent sign removal.\n",
    "    \n",
    "    Returns\n",
    "    -------\n",
    "    Pandas dataframe object\n",
    "    input dataframe, with percent signs removed from Clinton and Trump columns. \n",
    "    \n",
    "    \"\"\"\n",
    "    \n",
    "    for i in range(len(df)):\n",
    "        df.loc[:,\"Clinton %\"][i] = df.loc[:, \"Clinton %\"][i].replace(\"%\", \"\")\n",
    "        df.loc[:,\"Trump %\"][i] = df.loc[:, \"Trump %\"][i].replace(\"%\", \"\")\n",
    "    \n",
    "    return df"
   ]
  },
  {
   "cell_type": "markdown",
   "metadata": {},
   "source": [
    "Let's do a quick unit test to make sure that our function works properly:"
   ]
  },
  {
   "cell_type": "code",
   "execution_count": 6,
   "metadata": {
    "scrolled": true
   },
   "outputs": [
    {
     "data": {
      "text/html": [
       "<div>\n",
       "<style>\n",
       "    .dataframe thead tr:only-child th {\n",
       "        text-align: right;\n",
       "    }\n",
       "\n",
       "    .dataframe thead th {\n",
       "        text-align: left;\n",
       "    }\n",
       "\n",
       "    .dataframe tbody tr th {\n",
       "        vertical-align: top;\n",
       "    }\n",
       "</style>\n",
       "<table border=\"1\" class=\"dataframe\">\n",
       "  <thead>\n",
       "    <tr style=\"text-align: right;\">\n",
       "      <th></th>\n",
       "      <th>Clinton %</th>\n",
       "      <th>Trump %</th>\n",
       "    </tr>\n",
       "  </thead>\n",
       "  <tbody>\n",
       "    <tr>\n",
       "      <th>0</th>\n",
       "      <td>1%</td>\n",
       "      <td>3%</td>\n",
       "    </tr>\n",
       "    <tr>\n",
       "      <th>1</th>\n",
       "      <td>2%</td>\n",
       "      <td>4%</td>\n",
       "    </tr>\n",
       "    <tr>\n",
       "      <th>2</th>\n",
       "      <td>3%</td>\n",
       "      <td>12%</td>\n",
       "    </tr>\n",
       "    <tr>\n",
       "      <th>3</th>\n",
       "      <td>10%</td>\n",
       "      <td>15%</td>\n",
       "    </tr>\n",
       "    <tr>\n",
       "      <th>4</th>\n",
       "      <td>50%</td>\n",
       "      <td>28%</td>\n",
       "    </tr>\n",
       "  </tbody>\n",
       "</table>\n",
       "</div>"
      ],
      "text/plain": [
       "  Clinton % Trump %\n",
       "0        1%      3%\n",
       "1        2%      4%\n",
       "2        3%     12%\n",
       "3       10%     15%\n",
       "4       50%     28%"
      ]
     },
     "execution_count": 6,
     "metadata": {},
     "output_type": "execute_result"
    }
   ],
   "source": [
    "test_data = {'Clinton %': [\"1%\", \"2%\", \"3%\", \"10%\", \"50%\"], 'Trump %': [\"3%\", \"4%\", \"12%\", \"15%\", \"28%\"]}\n",
    "test_df = pd.DataFrame(data=test_data)\n",
    "test_df"
   ]
  },
  {
   "cell_type": "code",
   "execution_count": 7,
   "metadata": {
    "collapsed": true
   },
   "outputs": [],
   "source": [
    "test_result_df = remove_percent_signs(test_df)\n",
    "# make sure we got rid of the percent signs\n",
    "for elem in test_result_df[\"Clinton %\"]:\n",
    "    assert \"%\" not in elem\n",
    "for elem in test_result_df[\"Trump %\"]:\n",
    "    assert \"%\" not in elem"
   ]
  },
  {
   "cell_type": "markdown",
   "metadata": {},
   "source": [
    "Great! Now, lets use our function:"
   ]
  },
  {
   "cell_type": "code",
   "execution_count": 8,
   "metadata": {},
   "outputs": [
    {
     "data": {
      "text/html": [
       "<div>\n",
       "<style>\n",
       "    .dataframe thead tr:only-child th {\n",
       "        text-align: right;\n",
       "    }\n",
       "\n",
       "    .dataframe thead th {\n",
       "        text-align: left;\n",
       "    }\n",
       "\n",
       "    .dataframe tbody tr th {\n",
       "        vertical-align: top;\n",
       "    }\n",
       "</style>\n",
       "<table border=\"1\" class=\"dataframe\">\n",
       "  <thead>\n",
       "    <tr style=\"text-align: right;\">\n",
       "      <th></th>\n",
       "      <th>State</th>\n",
       "      <th>Clinton %</th>\n",
       "      <th>Trump %</th>\n",
       "    </tr>\n",
       "  </thead>\n",
       "  <tbody>\n",
       "    <tr>\n",
       "      <th>0</th>\n",
       "      <td>Arizona</td>\n",
       "      <td>45.1</td>\n",
       "      <td>48.7</td>\n",
       "    </tr>\n",
       "    <tr>\n",
       "      <th>1</th>\n",
       "      <td>Colorado</td>\n",
       "      <td>48.2</td>\n",
       "      <td>43.3</td>\n",
       "    </tr>\n",
       "    <tr>\n",
       "      <th>2</th>\n",
       "      <td>Florida</td>\n",
       "      <td>47.8</td>\n",
       "      <td>49.0</td>\n",
       "    </tr>\n",
       "    <tr>\n",
       "      <th>3</th>\n",
       "      <td>Iowa</td>\n",
       "      <td>41.7</td>\n",
       "      <td>51.1</td>\n",
       "    </tr>\n",
       "    <tr>\n",
       "      <th>4</th>\n",
       "      <td>Maine</td>\n",
       "      <td>47.8</td>\n",
       "      <td>44.9</td>\n",
       "    </tr>\n",
       "  </tbody>\n",
       "</table>\n",
       "</div>"
      ],
      "text/plain": [
       "      State Clinton % Trump %\n",
       "0   Arizona      45.1    48.7\n",
       "1  Colorado      48.2    43.3\n",
       "2   Florida      47.8    49.0\n",
       "3      Iowa      41.7    51.1\n",
       "4     Maine      47.8    44.9"
      ]
     },
     "execution_count": 8,
     "metadata": {},
     "output_type": "execute_result"
    }
   ],
   "source": [
    "remove_percent_signs(results)\n",
    "results.head()"
   ]
  },
  {
   "cell_type": "markdown",
   "metadata": {},
   "source": [
    "Now, we need to change the type of those data into numbers, as numeric type.  Use the pd.to_numeric function."
   ]
  },
  {
   "cell_type": "code",
   "execution_count": 9,
   "metadata": {},
   "outputs": [
    {
     "name": "stdout",
     "output_type": "stream",
     "text": [
      "float64 float64\n"
     ]
    }
   ],
   "source": [
    "results[\"Clinton %\"] = pd.to_numeric(results[\"Clinton %\"])\n",
    "results[\"Trump %\"] = pd.to_numeric(results[\"Trump %\"])\n",
    "print(results[\"Clinton %\"].dtype, results[\"Trump %\"].dtype)"
   ]
  },
  {
   "cell_type": "markdown",
   "metadata": {},
   "source": [
    "We need to create a new DataFrame from data_list, and calculate percentages from the aggregate votes called df_diff.  We first create a state directory with states names and their abbreviation so that in our p_only dataframe, we could link the state names with its abbreviation.  We appended two columns on p_only dataframe: percentage of polls Clinton and Trump get. We use the polls Clinton got divided by the total sample size, and polls Trump got divided by the total sample size.\n",
    "Let's see how does df_diff looks like.\n"
   ]
  },
  {
   "cell_type": "code",
   "execution_count": 10,
   "metadata": {},
   "outputs": [
    {
     "data": {
      "text/html": [
       "<div>\n",
       "<style>\n",
       "    .dataframe thead tr:only-child th {\n",
       "        text-align: right;\n",
       "    }\n",
       "\n",
       "    .dataframe thead th {\n",
       "        text-align: left;\n",
       "    }\n",
       "\n",
       "    .dataframe tbody tr th {\n",
       "        vertical-align: top;\n",
       "    }\n",
       "</style>\n",
       "<table border=\"1\" class=\"dataframe\">\n",
       "  <thead>\n",
       "    <tr style=\"text-align: right;\">\n",
       "      <th></th>\n",
       "      <th>code</th>\n",
       "      <th>state</th>\n",
       "      <th>samplesize</th>\n",
       "      <th>clinton</th>\n",
       "      <th>trump</th>\n",
       "      <th>clinton_pct</th>\n",
       "      <th>trump_pct</th>\n",
       "    </tr>\n",
       "  </thead>\n",
       "  <tbody>\n",
       "    <tr>\n",
       "      <th>0</th>\n",
       "      <td>AL</td>\n",
       "      <td>Alabama</td>\n",
       "      <td>27153.0</td>\n",
       "      <td>8.992856e+05</td>\n",
       "      <td>1.570689e+06</td>\n",
       "      <td>33.119197</td>\n",
       "      <td>57.845873</td>\n",
       "    </tr>\n",
       "    <tr>\n",
       "      <th>1</th>\n",
       "      <td>AK</td>\n",
       "      <td>Alaska</td>\n",
       "      <td>12240.0</td>\n",
       "      <td>4.309978e+05</td>\n",
       "      <td>5.495426e+05</td>\n",
       "      <td>35.212235</td>\n",
       "      <td>44.897274</td>\n",
       "    </tr>\n",
       "    <tr>\n",
       "      <th>2</th>\n",
       "      <td>AZ</td>\n",
       "      <td>Arizona</td>\n",
       "      <td>69177.0</td>\n",
       "      <td>2.919496e+06</td>\n",
       "      <td>3.068696e+06</td>\n",
       "      <td>42.203272</td>\n",
       "      <td>44.360056</td>\n",
       "    </tr>\n",
       "    <tr>\n",
       "      <th>3</th>\n",
       "      <td>AR</td>\n",
       "      <td>Arkansas</td>\n",
       "      <td>17965.0</td>\n",
       "      <td>6.353103e+05</td>\n",
       "      <td>9.472248e+05</td>\n",
       "      <td>35.363781</td>\n",
       "      <td>52.726123</td>\n",
       "    </tr>\n",
       "    <tr>\n",
       "      <th>4</th>\n",
       "      <td>CA</td>\n",
       "      <td>California</td>\n",
       "      <td>103154.0</td>\n",
       "      <td>5.588077e+06</td>\n",
       "      <td>3.374816e+06</td>\n",
       "      <td>54.172181</td>\n",
       "      <td>32.716288</td>\n",
       "    </tr>\n",
       "  </tbody>\n",
       "</table>\n",
       "</div>"
      ],
      "text/plain": [
       "  code       state  samplesize       clinton         trump  clinton_pct  \\\n",
       "0   AL     Alabama     27153.0  8.992856e+05  1.570689e+06    33.119197   \n",
       "1   AK      Alaska     12240.0  4.309978e+05  5.495426e+05    35.212235   \n",
       "2   AZ     Arizona     69177.0  2.919496e+06  3.068696e+06    42.203272   \n",
       "3   AR    Arkansas     17965.0  6.353103e+05  9.472248e+05    35.363781   \n",
       "4   CA  California    103154.0  5.588077e+06  3.374816e+06    54.172181   \n",
       "\n",
       "   trump_pct  \n",
       "0  57.845873  \n",
       "1  44.897274  \n",
       "2  44.360056  \n",
       "3  52.726123  \n",
       "4  32.716288  "
      ]
     },
     "execution_count": 10,
     "metadata": {},
     "output_type": "execute_result"
    }
   ],
   "source": [
    "#create an item called state_dic, which linked each state name with their abbreviation.\n",
    "state_dict = {'Alabama':'AL', 'Alaska':'AK', 'Arizona':'AZ', 'Arkansas':'AR', 'California':'CA', 'Colorado':'CO',\n",
    "              'Connecticut':'CT', 'Delaware':'DE', 'District of Columbia':'DC', 'Florida':'FL', 'Georgia':'GA',\n",
    "              'Hawaii':'HI', 'Idaho':'ID', 'Illinois':'IL', 'Indiana':'IN', 'Iowa':'IA', 'Kansas':'KS', 'Kentucky':'KY',\n",
    "              'Louisiana':'LA', 'Maine':'ME', 'Maryland':'MD', 'Massachusetts':'MA', 'Michigan':'MI', 'Minnesota':'MN',\n",
    "              'Mississippi':'MS', 'Missouri':'MO', 'Montana':'MT', 'Nebraska':'NE', 'Nevada':'NV', 'New Hampshire':'NH',\n",
    "              'New Jersey':'NJ', 'New Mexico':'NM', 'New York':'NY', 'North Carolina':'NC', 'North Dakota':'ND',\n",
    "              'Ohio':'OH', 'Oklahoma':'OK', 'Oregon':'OR', 'Pennsylvania':'PA', 'Rhode Island':'RI', 'South Carolina':'SC',\n",
    "              'South Dakota':'SD', 'Tennessee':'TN', 'Texas':'TX', 'Utah':'UT', 'Vermont':'VT', 'Virginia':'VA',\n",
    "              'Washington':'WA', 'West Virginia':'WV', 'Wisconsin':'WI', 'Wyoming':'WY'}\n",
    "\n",
    "#If we look through the data, our dataframe p_only contains 57 states which includes Maine three times, and Nebraska 3 times\n",
    "#We combine and delete the data from those states in our dataframe\n",
    "#removedata = ['Maine CD-1', 'Maine CD-2', 'Nebraska CD-1', 'Nebraska CD-2', 'Nebraska CD-3', 'U.S.']\n",
    "#if state in ['Maine CD-1', 'Maine CD-2']:\n",
    "        #state = 'Maine'\n",
    "#elif State in ['Nebraska CD-1', 'Nebraska CD-2', 'Nebraska CD-3']:\n",
    "        #state = 'Nebraska'\n",
    "\n",
    "#Iterate through dictionary of states; for each state, subset all polls conducted in the state and sum the votes for Clinton\n",
    "#and for Trump. Then add the results to a new dictionary data_list.\n",
    "data_list = []\n",
    "for state, code in state_dict.items():\n",
    "    dict1 = {}\n",
    "    samplesize = p_only[p_only.loc[:,'state']==state].loc[:,'samplesize']\n",
    "    clinton = p_only[p_only.loc[:,'state']==state].loc[:,'adjpoll_clinton']\n",
    "    trump = p_only[p_only.loc[:,'state']==state].loc[:,'adjpoll_trump']\n",
    "    dict1['state'] = state\n",
    "    dict1['code'] = code\n",
    "    dict1['samplesize'] = samplesize.sum()\n",
    "    dict1['clinton'] = (clinton * samplesize).sum() #Aggregating Clinton poll votes\n",
    "    dict1['trump'] = (trump * samplesize).sum()     #Aggregating Trump poll votes\n",
    "    data_list.append(dict1)\n",
    "    \n",
    "#Later, we will compare the percentage change in data\n",
    "df_diff = pd.DataFrame(data_list, columns=['code', 'state', 'samplesize', 'clinton', 'trump'])\n",
    "df_diff.loc[:,'clinton_pct'] = df_diff.loc[:,'clinton']/df_diff.loc[:,'samplesize']\n",
    "df_diff.loc[:,'trump_pct'] = df_diff.loc[:,'trump']/df_diff.loc[:,'samplesize']\n",
    "df_diff.head()"
   ]
  },
  {
   "cell_type": "markdown",
   "metadata": {},
   "source": [
    "We sorted the values in our \"results\" data set by states, so that the orders in our \"results\" data set is matching with our df_diff data set."
   ]
  },
  {
   "cell_type": "code",
   "execution_count": 11,
   "metadata": {},
   "outputs": [
    {
     "data": {
      "text/html": [
       "<div>\n",
       "<style>\n",
       "    .dataframe thead tr:only-child th {\n",
       "        text-align: right;\n",
       "    }\n",
       "\n",
       "    .dataframe thead th {\n",
       "        text-align: left;\n",
       "    }\n",
       "\n",
       "    .dataframe tbody tr th {\n",
       "        vertical-align: top;\n",
       "    }\n",
       "</style>\n",
       "<table border=\"1\" class=\"dataframe\">\n",
       "  <thead>\n",
       "    <tr style=\"text-align: right;\">\n",
       "      <th></th>\n",
       "      <th>State</th>\n",
       "      <th>Clinton %</th>\n",
       "      <th>Trump %</th>\n",
       "    </tr>\n",
       "  </thead>\n",
       "  <tbody>\n",
       "    <tr>\n",
       "      <th>0</th>\n",
       "      <td>Alabama</td>\n",
       "      <td>34.4</td>\n",
       "      <td>62.1</td>\n",
       "    </tr>\n",
       "    <tr>\n",
       "      <th>1</th>\n",
       "      <td>Alaska</td>\n",
       "      <td>36.6</td>\n",
       "      <td>51.3</td>\n",
       "    </tr>\n",
       "    <tr>\n",
       "      <th>2</th>\n",
       "      <td>Arizona</td>\n",
       "      <td>45.1</td>\n",
       "      <td>48.7</td>\n",
       "    </tr>\n",
       "    <tr>\n",
       "      <th>3</th>\n",
       "      <td>Arkansas</td>\n",
       "      <td>33.7</td>\n",
       "      <td>60.6</td>\n",
       "    </tr>\n",
       "    <tr>\n",
       "      <th>4</th>\n",
       "      <td>California</td>\n",
       "      <td>61.7</td>\n",
       "      <td>31.6</td>\n",
       "    </tr>\n",
       "  </tbody>\n",
       "</table>\n",
       "</div>"
      ],
      "text/plain": [
       "        State  Clinton %  Trump %\n",
       "0     Alabama       34.4     62.1\n",
       "1      Alaska       36.6     51.3\n",
       "2     Arizona       45.1     48.7\n",
       "3    Arkansas       33.7     60.6\n",
       "4  California       61.7     31.6"
      ]
     },
     "execution_count": 11,
     "metadata": {},
     "output_type": "execute_result"
    }
   ],
   "source": [
    "#use the results we read at the begining and sorted the values so that both data could match with the alphabatic order\n",
    "results = results.sort_values('State')\n",
    "results = results.reset_index(drop=True)\n",
    "results.head()"
   ]
  },
  {
   "cell_type": "markdown",
   "metadata": {},
   "source": [
    "Calculate the differences between the actual voting results and polls prediction by subtracting the percentage of poll from the actual percentage vote each president got.  And add those two columns into our df_diff dataframe as clinton_diff and trump_diff.  Let's see what df_diff looks like.  "
   ]
  },
  {
   "cell_type": "code",
   "execution_count": 12,
   "metadata": {},
   "outputs": [
    {
     "data": {
      "text/html": [
       "<div>\n",
       "<style>\n",
       "    .dataframe thead tr:only-child th {\n",
       "        text-align: right;\n",
       "    }\n",
       "\n",
       "    .dataframe thead th {\n",
       "        text-align: left;\n",
       "    }\n",
       "\n",
       "    .dataframe tbody tr th {\n",
       "        vertical-align: top;\n",
       "    }\n",
       "</style>\n",
       "<table border=\"1\" class=\"dataframe\">\n",
       "  <thead>\n",
       "    <tr style=\"text-align: right;\">\n",
       "      <th></th>\n",
       "      <th>code</th>\n",
       "      <th>state</th>\n",
       "      <th>samplesize</th>\n",
       "      <th>clinton</th>\n",
       "      <th>trump</th>\n",
       "      <th>clinton_pct</th>\n",
       "      <th>trump_pct</th>\n",
       "      <th>clinton_diff</th>\n",
       "      <th>trump_diff</th>\n",
       "    </tr>\n",
       "  </thead>\n",
       "  <tbody>\n",
       "    <tr>\n",
       "      <th>0</th>\n",
       "      <td>AL</td>\n",
       "      <td>Alabama</td>\n",
       "      <td>27153.0</td>\n",
       "      <td>8.992856e+05</td>\n",
       "      <td>1.570689e+06</td>\n",
       "      <td>33.119197</td>\n",
       "      <td>57.845873</td>\n",
       "      <td>1.280803</td>\n",
       "      <td>4.254127</td>\n",
       "    </tr>\n",
       "    <tr>\n",
       "      <th>1</th>\n",
       "      <td>AK</td>\n",
       "      <td>Alaska</td>\n",
       "      <td>12240.0</td>\n",
       "      <td>4.309978e+05</td>\n",
       "      <td>5.495426e+05</td>\n",
       "      <td>35.212235</td>\n",
       "      <td>44.897274</td>\n",
       "      <td>1.387765</td>\n",
       "      <td>6.402726</td>\n",
       "    </tr>\n",
       "    <tr>\n",
       "      <th>2</th>\n",
       "      <td>AZ</td>\n",
       "      <td>Arizona</td>\n",
       "      <td>69177.0</td>\n",
       "      <td>2.919496e+06</td>\n",
       "      <td>3.068696e+06</td>\n",
       "      <td>42.203272</td>\n",
       "      <td>44.360056</td>\n",
       "      <td>2.896728</td>\n",
       "      <td>4.339944</td>\n",
       "    </tr>\n",
       "    <tr>\n",
       "      <th>3</th>\n",
       "      <td>AR</td>\n",
       "      <td>Arkansas</td>\n",
       "      <td>17965.0</td>\n",
       "      <td>6.353103e+05</td>\n",
       "      <td>9.472248e+05</td>\n",
       "      <td>35.363781</td>\n",
       "      <td>52.726123</td>\n",
       "      <td>-1.663781</td>\n",
       "      <td>7.873877</td>\n",
       "    </tr>\n",
       "    <tr>\n",
       "      <th>4</th>\n",
       "      <td>CA</td>\n",
       "      <td>California</td>\n",
       "      <td>103154.0</td>\n",
       "      <td>5.588077e+06</td>\n",
       "      <td>3.374816e+06</td>\n",
       "      <td>54.172181</td>\n",
       "      <td>32.716288</td>\n",
       "      <td>7.527819</td>\n",
       "      <td>-1.116288</td>\n",
       "    </tr>\n",
       "  </tbody>\n",
       "</table>\n",
       "</div>"
      ],
      "text/plain": [
       "  code       state  samplesize       clinton         trump  clinton_pct  \\\n",
       "0   AL     Alabama     27153.0  8.992856e+05  1.570689e+06    33.119197   \n",
       "1   AK      Alaska     12240.0  4.309978e+05  5.495426e+05    35.212235   \n",
       "2   AZ     Arizona     69177.0  2.919496e+06  3.068696e+06    42.203272   \n",
       "3   AR    Arkansas     17965.0  6.353103e+05  9.472248e+05    35.363781   \n",
       "4   CA  California    103154.0  5.588077e+06  3.374816e+06    54.172181   \n",
       "\n",
       "   trump_pct  clinton_diff  trump_diff  \n",
       "0  57.845873      1.280803    4.254127  \n",
       "1  44.897274      1.387765    6.402726  \n",
       "2  44.360056      2.896728    4.339944  \n",
       "3  52.726123     -1.663781    7.873877  \n",
       "4  32.716288      7.527819   -1.116288  "
      ]
     },
     "execution_count": 12,
     "metadata": {},
     "output_type": "execute_result"
    }
   ],
   "source": [
    "df_diff['clinton_diff'] = results['Clinton %'] - df_diff['clinton_pct']\n",
    "df_diff['trump_diff'] = results['Trump %'] - df_diff['trump_pct']\n",
    "df_diff.head()\n",
    "#let's see what is the difference of voting"
   ]
  },
  {
   "cell_type": "code",
   "execution_count": 13,
   "metadata": {
    "collapsed": true
   },
   "outputs": [],
   "source": [
    "#now we want to visualize the differences between votings\n",
    "%matplotlib inline\n",
    "import numpy as np\n",
    "import pandas as pd\n",
    "import seaborn as sns\n",
    "from scipy import stats\n",
    "import matplotlib as mpl\n",
    "import matplotlib.pyplot as plt"
   ]
  },
  {
   "cell_type": "markdown",
   "metadata": {},
   "source": [
    "Now, we could visualize the new data sets.  First, we use seaborn stripplot to put points on our plot.  The y-axis the the percentage vote each president got.  x-axis is different state.  We want to see how each state vote for the president in the actual voting results.  Red dots represent percentage vote Trump got from the election, and blue dots represent percentage vote Clinton got from the election.  As we could see from the belowing graph, Trump and Clinton got really close percentage of vote in some of the states like Florida, Wisconsin, Pennsylvania, Michigan, Minnesota.  Except for District of Columbia and California, which states put most of their votes under Clinton, other states did not have that much differences.  There are 29 states have the red dots higher than the blue ones, which indicates that those states are all giving their states votes to Trump. "
   ]
  },
  {
   "cell_type": "code",
   "execution_count": 14,
   "metadata": {
    "scrolled": true
   },
   "outputs": [
    {
     "data": {
      "image/png": "[encoded data removed]",
      "text/plain": [
       "<matplotlib.figure.Figure at 0x7f0231989828>"
      ]
     },
     "metadata": {},
     "output_type": "display_data"
    }
   ],
   "source": [
    "fig,axes= plt.subplots(figsize=(20,10))\n",
    "p1=sns.stripplot(x=\"State\", y=\"Trump %\", data=results,color=\"red\",size=20,alpha=0.7)\n",
    "p2=sns.stripplot(x=\"State\", y=\"Clinton %\", data=results,color=\"blue\",size=20,alpha=0.7)\n",
    "axes.set_title('The actual Percentage of vote in the election')\n",
    "axes.set_ylabel(\"Percentage of vote\")\n",
    "axes.set_xlabel(\"State\")\n",
    "#we draw the graph that shows the percentage of votes in each state for Clinton and Trump\n",
    "plt.setp(axes.xaxis.get_majorticklabels(), rotation=90);\n",
    "plt.savefig(\"fig/points_of_election_results.png\")"
   ]
  },
  {
   "cell_type": "markdown",
   "metadata": {},
   "source": [
    "In the second graph, we draw the barplots of the percentage differences between the poll prediction and the actual vote each president got.  The negative barplot indicates that the president received less percentage of vote than the poll prediction.  The higher barplot is, the more percentage of votes president received than the poll prediction.  Blue indicates the Clinton's percentage differences, while the red barplot represents Trump.  There are 11 states have less percentage votes to Clinton, meanwhile, only 3 states give less percentage votes to Trump.  Through vertical comparison, we are able to conclude that most states increase their voting percentage to Trump than Clinton.  And many more states reduce their voting percentage to Clinton than Trump.  \n",
    "This concludes the reason why Trump received more votes in the actual election surprisingly, as many swinging states changed their votes to Trump.\n"
   ]
  },
  {
   "cell_type": "code",
   "execution_count": 15,
   "metadata": {
    "scrolled": true
   },
   "outputs": [
    {
     "data": {
      "image/png": "[encoded data removed]",
      "text/plain": [
       "<matplotlib.figure.Figure at 0x7f02294044e0>"
      ]
     },
     "metadata": {},
     "output_type": "display_data"
    }
   ],
   "source": [
    "#now let's draw the differences of percentage each president got\n",
    "fig,axes= plt.subplots(2,1,figsize=(25,20), sharex=True)\n",
    "fig.suptitle('Percentage of vote changes for each President')\n",
    "sns.barplot(x=\"code\",y=\"clinton_diff\",data=df_diff,color=\"blue\",alpha=0.9,ax=axes[0])\n",
    "sns.barplot(x=\"code\",y=\"trump_diff\",data=df_diff,color=\"red\",alpha=0.9,ax=axes[1])\n",
    "plt.savefig(\"fig/percentage_differences.png\")\n"
   ]
  },
  {
   "cell_type": "markdown",
   "metadata": {},
   "source": [
    "We would actually see the reason why through notebook 3, after we use bootstrap to predict the presidency was not accurate.  As many states and people changed their mind at last minute and it is unpredictable through the prediction data set."
   ]
  }
 ],
 "metadata": {
  "kernelspec": {
   "display_name": "Python 3",
   "language": "python",
   "name": "python3"
  },
  "language_info": {
   "codemirror_mode": {
    "name": "ipython",
    "version": 3
   },
   "file_extension": ".py",
   "mimetype": "text/x-python",
   "name": "python",
   "nbconvert_exporter": "python",
   "pygments_lexer": "ipython3",
   "version": "3.6.2"
  }
 },
 "nbformat": 4,
 "nbformat_minor": 2
}

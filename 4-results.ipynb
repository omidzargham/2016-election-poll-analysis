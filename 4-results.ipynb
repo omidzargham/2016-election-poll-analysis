{
 "cells": [
  {
   "cell_type": "code",
   "execution_count": 1,
   "metadata": {
    "collapsed": true
   },
   "outputs": [],
   "source": [
    "import pandas as pd"
   ]
  },
  {
   "cell_type": "markdown",
   "metadata": {},
   "source": [
    "Let's load the dataset with the actual popular votes for each state.\n",
    "- Note: The first 3 rows of the csv file include aggregate statistics about how the US, swing states, and non-swing states voted, but we are only interested in the data for each state, so we omit these rows."
   ]
  },
  {
   "cell_type": "code",
   "execution_count": 2,
   "metadata": {},
   "outputs": [
    {
     "data": {
      "text/html": [
       "<div>\n",
       "<style>\n",
       "    .dataframe thead tr:only-child th {\n",
       "        text-align: right;\n",
       "    }\n",
       "\n",
       "    .dataframe thead th {\n",
       "        text-align: left;\n",
       "    }\n",
       "\n",
       "    .dataframe tbody tr th {\n",
       "        vertical-align: top;\n",
       "    }\n",
       "</style>\n",
       "<table border=\"1\" class=\"dataframe\">\n",
       "  <thead>\n",
       "    <tr style=\"text-align: right;\">\n",
       "      <th></th>\n",
       "      <th>State</th>\n",
       "      <th>Clinton (D)</th>\n",
       "      <th>Trump (R)</th>\n",
       "      <th>Others</th>\n",
       "      <th>Clinton %</th>\n",
       "      <th>Trump %</th>\n",
       "      <th>Others %</th>\n",
       "      <th>Dem '12 Margin</th>\n",
       "      <th>Dem '16 Margin</th>\n",
       "      <th>Margin Shift</th>\n",
       "      <th>Total '12 Votes</th>\n",
       "      <th>Total '16 Votes</th>\n",
       "      <th>Raw Votes vs. '12</th>\n",
       "    </tr>\n",
       "  </thead>\n",
       "  <tbody>\n",
       "    <tr>\n",
       "      <th>3</th>\n",
       "      <td>Arizona*</td>\n",
       "      <td>1,161,167</td>\n",
       "      <td>1,252,401</td>\n",
       "      <td>159,597</td>\n",
       "      <td>45.1%</td>\n",
       "      <td>48.7%</td>\n",
       "      <td>6.2%</td>\n",
       "      <td>-9.1%</td>\n",
       "      <td>-3.5%</td>\n",
       "      <td>5.5%</td>\n",
       "      <td>2,299,254</td>\n",
       "      <td>2,573,165</td>\n",
       "      <td>11.9%</td>\n",
       "    </tr>\n",
       "    <tr>\n",
       "      <th>4</th>\n",
       "      <td>Colorado*</td>\n",
       "      <td>1,338,870</td>\n",
       "      <td>1,202,484</td>\n",
       "      <td>238,866</td>\n",
       "      <td>48.2%</td>\n",
       "      <td>43.3%</td>\n",
       "      <td>8.6%</td>\n",
       "      <td>5.4%</td>\n",
       "      <td>4.9%</td>\n",
       "      <td>-0.5%</td>\n",
       "      <td>2,569,521</td>\n",
       "      <td>2,780,220</td>\n",
       "      <td>8.2%</td>\n",
       "    </tr>\n",
       "    <tr>\n",
       "      <th>5</th>\n",
       "      <td>Florida*</td>\n",
       "      <td>4,504,975</td>\n",
       "      <td>4,617,886</td>\n",
       "      <td>297,178</td>\n",
       "      <td>47.8%</td>\n",
       "      <td>49.0%</td>\n",
       "      <td>3.2%</td>\n",
       "      <td>0.9%</td>\n",
       "      <td>-1.2%</td>\n",
       "      <td>-2.1%</td>\n",
       "      <td>8,474,179</td>\n",
       "      <td>9,420,039</td>\n",
       "      <td>11.2%</td>\n",
       "    </tr>\n",
       "    <tr>\n",
       "      <th>6</th>\n",
       "      <td>Iowa*</td>\n",
       "      <td>653,669</td>\n",
       "      <td>800,983</td>\n",
       "      <td>111,379</td>\n",
       "      <td>41.7%</td>\n",
       "      <td>51.1%</td>\n",
       "      <td>7.1%</td>\n",
       "      <td>5.8%</td>\n",
       "      <td>-9.4%</td>\n",
       "      <td>-15.2%</td>\n",
       "      <td>1,582,180</td>\n",
       "      <td>1,566,031</td>\n",
       "      <td>-1.0%</td>\n",
       "    </tr>\n",
       "    <tr>\n",
       "      <th>7</th>\n",
       "      <td>Maine*</td>\n",
       "      <td>357,735</td>\n",
       "      <td>335,593</td>\n",
       "      <td>54,599</td>\n",
       "      <td>47.8%</td>\n",
       "      <td>44.9%</td>\n",
       "      <td>7.3%</td>\n",
       "      <td>15.3%</td>\n",
       "      <td>3.0%</td>\n",
       "      <td>-12.3%</td>\n",
       "      <td>713,180</td>\n",
       "      <td>747,927</td>\n",
       "      <td>4.9%</td>\n",
       "    </tr>\n",
       "  </tbody>\n",
       "</table>\n",
       "</div>"
      ],
      "text/plain": [
       "       State Clinton (D)  Trump (R)   Others Clinton % Trump % Others %  \\\n",
       "3   Arizona*   1,161,167  1,252,401  159,597     45.1%   48.7%     6.2%   \n",
       "4  Colorado*   1,338,870  1,202,484  238,866     48.2%   43.3%     8.6%   \n",
       "5   Florida*   4,504,975  4,617,886  297,178     47.8%   49.0%     3.2%   \n",
       "6      Iowa*     653,669    800,983  111,379     41.7%   51.1%     7.1%   \n",
       "7     Maine*     357,735    335,593   54,599     47.8%   44.9%     7.3%   \n",
       "\n",
       "  Dem '12 Margin Dem '16 Margin Margin Shift Total '12 Votes Total '16 Votes  \\\n",
       "3          -9.1%          -3.5%         5.5%       2,299,254       2,573,165   \n",
       "4           5.4%           4.9%        -0.5%       2,569,521       2,780,220   \n",
       "5           0.9%          -1.2%        -2.1%       8,474,179       9,420,039   \n",
       "6           5.8%          -9.4%       -15.2%       1,582,180       1,566,031   \n",
       "7          15.3%           3.0%       -12.3%         713,180         747,927   \n",
       "\n",
       "  Raw Votes vs. '12  \n",
       "3             11.9%  \n",
       "4              8.2%  \n",
       "5             11.2%  \n",
       "6             -1.0%  \n",
       "7              4.9%  "
      ]
     },
     "execution_count": 2,
     "metadata": {},
     "output_type": "execute_result"
    }
   ],
   "source": [
    "df = pd.read_csv('data/national_popular_votes_2016.csv')[3:] #start from the 3rd row\n",
    "df.head()"
   ]
  },
  {
   "cell_type": "markdown",
   "metadata": {},
   "source": [
    "Let's get rid of the columns irrelevant to our analysis:"
   ]
  },
  {
   "cell_type": "code",
   "execution_count": 3,
   "metadata": {},
   "outputs": [
    {
     "data": {
      "text/html": [
       "<div>\n",
       "<style>\n",
       "    .dataframe thead tr:only-child th {\n",
       "        text-align: right;\n",
       "    }\n",
       "\n",
       "    .dataframe thead th {\n",
       "        text-align: left;\n",
       "    }\n",
       "\n",
       "    .dataframe tbody tr th {\n",
       "        vertical-align: top;\n",
       "    }\n",
       "</style>\n",
       "<table border=\"1\" class=\"dataframe\">\n",
       "  <thead>\n",
       "    <tr style=\"text-align: right;\">\n",
       "      <th></th>\n",
       "      <th>State</th>\n",
       "      <th>Clinton %</th>\n",
       "      <th>Trump %</th>\n",
       "    </tr>\n",
       "  </thead>\n",
       "  <tbody>\n",
       "    <tr>\n",
       "      <th>0</th>\n",
       "      <td>Arizona*</td>\n",
       "      <td>45.1%</td>\n",
       "      <td>48.7%</td>\n",
       "    </tr>\n",
       "    <tr>\n",
       "      <th>1</th>\n",
       "      <td>Colorado*</td>\n",
       "      <td>48.2%</td>\n",
       "      <td>43.3%</td>\n",
       "    </tr>\n",
       "    <tr>\n",
       "      <th>2</th>\n",
       "      <td>Florida*</td>\n",
       "      <td>47.8%</td>\n",
       "      <td>49.0%</td>\n",
       "    </tr>\n",
       "    <tr>\n",
       "      <th>3</th>\n",
       "      <td>Iowa*</td>\n",
       "      <td>41.7%</td>\n",
       "      <td>51.1%</td>\n",
       "    </tr>\n",
       "    <tr>\n",
       "      <th>4</th>\n",
       "      <td>Maine*</td>\n",
       "      <td>47.8%</td>\n",
       "      <td>44.9%</td>\n",
       "    </tr>\n",
       "  </tbody>\n",
       "</table>\n",
       "</div>"
      ],
      "text/plain": [
       "       State Clinton % Trump %\n",
       "0   Arizona*     45.1%   48.7%\n",
       "1  Colorado*     48.2%   43.3%\n",
       "2   Florida*     47.8%   49.0%\n",
       "3      Iowa*     41.7%   51.1%\n",
       "4     Maine*     47.8%   44.9%"
      ]
     },
     "execution_count": 3,
     "metadata": {},
     "output_type": "execute_result"
    }
   ],
   "source": [
    "categories = ['State', 'Clinton %', 'Trump %']\n",
    "results = df.loc[:, categories]\n",
    "results = results.reset_index(drop=True)\n",
    "results.head()"
   ]
  },
  {
   "cell_type": "markdown",
   "metadata": {},
   "source": [
    "The dataset puts asterisks after the state names, so let's get rid of them: "
   ]
  },
  {
   "cell_type": "code",
   "execution_count": 4,
   "metadata": {
    "scrolled": false
   },
   "outputs": [
    {
     "data": {
      "text/html": [
       "<div>\n",
       "<style>\n",
       "    .dataframe thead tr:only-child th {\n",
       "        text-align: right;\n",
       "    }\n",
       "\n",
       "    .dataframe thead th {\n",
       "        text-align: left;\n",
       "    }\n",
       "\n",
       "    .dataframe tbody tr th {\n",
       "        vertical-align: top;\n",
       "    }\n",
       "</style>\n",
       "<table border=\"1\" class=\"dataframe\">\n",
       "  <thead>\n",
       "    <tr style=\"text-align: right;\">\n",
       "      <th></th>\n",
       "      <th>State</th>\n",
       "      <th>Clinton %</th>\n",
       "      <th>Trump %</th>\n",
       "    </tr>\n",
       "  </thead>\n",
       "  <tbody>\n",
       "    <tr>\n",
       "      <th>0</th>\n",
       "      <td>Arizona</td>\n",
       "      <td>45.1%</td>\n",
       "      <td>48.7%</td>\n",
       "    </tr>\n",
       "    <tr>\n",
       "      <th>1</th>\n",
       "      <td>Colorado</td>\n",
       "      <td>48.2%</td>\n",
       "      <td>43.3%</td>\n",
       "    </tr>\n",
       "    <tr>\n",
       "      <th>2</th>\n",
       "      <td>Florida</td>\n",
       "      <td>47.8%</td>\n",
       "      <td>49.0%</td>\n",
       "    </tr>\n",
       "    <tr>\n",
       "      <th>3</th>\n",
       "      <td>Iowa</td>\n",
       "      <td>41.7%</td>\n",
       "      <td>51.1%</td>\n",
       "    </tr>\n",
       "    <tr>\n",
       "      <th>4</th>\n",
       "      <td>Maine</td>\n",
       "      <td>47.8%</td>\n",
       "      <td>44.9%</td>\n",
       "    </tr>\n",
       "  </tbody>\n",
       "</table>\n",
       "</div>"
      ],
      "text/plain": [
       "      State Clinton % Trump %\n",
       "0   Arizona     45.1%   48.7%\n",
       "1  Colorado     48.2%   43.3%\n",
       "2   Florida     47.8%   49.0%\n",
       "3      Iowa     41.7%   51.1%\n",
       "4     Maine     47.8%   44.9%"
      ]
     },
     "execution_count": 4,
     "metadata": {},
     "output_type": "execute_result"
    }
   ],
   "source": [
    "for i in range(len(results)):\n",
    "    results.loc[:,'State'][i] = results.loc[:,'State'][i].replace(\"*\", \"\")\n",
    "results.head()"
   ]
  },
  {
   "cell_type": "markdown",
   "metadata": {},
   "source": [
    "Quick sanity check that we have the data for all 50 states + the District of Colombia:"
   ]
  },
  {
   "cell_type": "code",
   "execution_count": 5,
   "metadata": {},
   "outputs": [
    {
     "data": {
      "text/plain": [
       "array(['Arizona', 'Colorado', 'Florida', 'Iowa', 'Maine', 'Michigan',\n",
       "       'Minnesota', 'Nevada', 'New Hampshire', 'North Carolina', 'Ohio',\n",
       "       'Pennsylvania', 'Wisconsin', 'Alabama', 'Alaska', 'Arkansas',\n",
       "       'California', 'Connecticut', 'Delaware', 'District of Columbia',\n",
       "       'Georgia', 'Hawaii', 'Idaho', 'Illinois', 'Indiana', 'Kansas',\n",
       "       'Kentucky', 'Louisiana', 'Maryland', 'Massachusetts', 'Mississippi',\n",
       "       'Missouri', 'Montana', 'Nebraska', 'New Jersey', 'New Mexico',\n",
       "       'New York', 'North Dakota', 'Oklahoma', 'Oregon', 'Rhode Island',\n",
       "       'South Carolina', 'South Dakota', 'Tennessee', 'Texas', 'Utah',\n",
       "       'Vermont', 'Virginia', 'Washington', 'West Virginia', 'Wyoming'], dtype=object)"
      ]
     },
     "execution_count": 5,
     "metadata": {},
     "output_type": "execute_result"
    }
   ],
   "source": [
    "results[\"State\"].unique()"
   ]
  },
  {
   "cell_type": "code",
   "execution_count": 6,
   "metadata": {},
   "outputs": [
    {
     "data": {
      "text/plain": [
       "51"
      ]
     },
     "execution_count": 6,
     "metadata": {},
     "output_type": "execute_result"
    }
   ],
   "source": [
    "len(results[\"State\"].unique())"
   ]
  },
  {
   "cell_type": "markdown",
   "metadata": {},
   "source": [
    "Save the dataframe for use in the next notebook:"
   ]
  },
  {
   "cell_type": "code",
   "execution_count": 7,
   "metadata": {
    "collapsed": true
   },
   "outputs": [],
   "source": [
    "results.to_hdf('results/df4.h5', 'results')"
   ]
  }
 ],
 "metadata": {
  "kernelspec": {
   "display_name": "Python 3",
   "language": "python",
   "name": "python3"
  },
  "language_info": {
   "codemirror_mode": {
    "name": "ipython",
    "version": 3
   },
   "file_extension": ".py",
   "mimetype": "text/x-python",
   "name": "python",
   "nbconvert_exporter": "python",
   "pygments_lexer": "ipython3",
   "version": "3.6.2"
  }
 },
 "nbformat": 4,
 "nbformat_minor": 2
}

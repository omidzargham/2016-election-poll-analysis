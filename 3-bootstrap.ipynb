{
 "cells": [
  {
   "cell_type": "code",
   "execution_count": 1,
   "metadata": {
    "collapsed": true
   },
   "outputs": [],
   "source": [
    "import numpy as np\n",
    "import pandas as pd"
   ]
  },
  {
   "cell_type": "markdown",
   "metadata": {},
   "source": [
    "Importing the data from the previous notebook:"
   ]
  },
  {
   "cell_type": "code",
   "execution_count": 2,
   "metadata": {},
   "outputs": [
    {
     "data": {
      "text/html": [
       "<div>\n",
       "<style>\n",
       "    .dataframe thead tr:only-child th {\n",
       "        text-align: right;\n",
       "    }\n",
       "\n",
       "    .dataframe thead th {\n",
       "        text-align: left;\n",
       "    }\n",
       "\n",
       "    .dataframe tbody tr th {\n",
       "        vertical-align: top;\n",
       "    }\n",
       "</style>\n",
       "<table border=\"1\" class=\"dataframe\">\n",
       "  <thead>\n",
       "    <tr style=\"text-align: right;\">\n",
       "      <th></th>\n",
       "      <th>type</th>\n",
       "      <th>state</th>\n",
       "      <th>enddate</th>\n",
       "      <th>pollster</th>\n",
       "      <th>grade</th>\n",
       "      <th>samplesize</th>\n",
       "      <th>population</th>\n",
       "      <th>adjpoll_clinton</th>\n",
       "      <th>adjpoll_trump</th>\n",
       "      <th>poll_id</th>\n",
       "    </tr>\n",
       "  </thead>\n",
       "  <tbody>\n",
       "    <tr>\n",
       "      <th>0</th>\n",
       "      <td>polls-only</td>\n",
       "      <td>U.S.</td>\n",
       "      <td>2016-11-06</td>\n",
       "      <td>ABC News/Washington Post</td>\n",
       "      <td>A+</td>\n",
       "      <td>2220.0</td>\n",
       "      <td>lv</td>\n",
       "      <td>45.21947</td>\n",
       "      <td>41.70754</td>\n",
       "      <td>48630</td>\n",
       "    </tr>\n",
       "    <tr>\n",
       "      <th>1</th>\n",
       "      <td>polls-only</td>\n",
       "      <td>U.S.</td>\n",
       "      <td>2016-11-07</td>\n",
       "      <td>Google Consumer Surveys</td>\n",
       "      <td>B</td>\n",
       "      <td>26574.0</td>\n",
       "      <td>lv</td>\n",
       "      <td>43.40083</td>\n",
       "      <td>41.14659</td>\n",
       "      <td>48847</td>\n",
       "    </tr>\n",
       "    <tr>\n",
       "      <th>2</th>\n",
       "      <td>polls-only</td>\n",
       "      <td>U.S.</td>\n",
       "      <td>2016-11-06</td>\n",
       "      <td>Ipsos</td>\n",
       "      <td>A</td>\n",
       "      <td>2195.0</td>\n",
       "      <td>lv</td>\n",
       "      <td>42.01984</td>\n",
       "      <td>38.74365</td>\n",
       "      <td>48922</td>\n",
       "    </tr>\n",
       "    <tr>\n",
       "      <th>3</th>\n",
       "      <td>polls-only</td>\n",
       "      <td>U.S.</td>\n",
       "      <td>2016-11-07</td>\n",
       "      <td>YouGov</td>\n",
       "      <td>B</td>\n",
       "      <td>3677.0</td>\n",
       "      <td>lv</td>\n",
       "      <td>45.68214</td>\n",
       "      <td>40.90047</td>\n",
       "      <td>48687</td>\n",
       "    </tr>\n",
       "    <tr>\n",
       "      <th>4</th>\n",
       "      <td>polls-only</td>\n",
       "      <td>U.S.</td>\n",
       "      <td>2016-11-06</td>\n",
       "      <td>Gravis Marketing</td>\n",
       "      <td>B</td>\n",
       "      <td>16639.0</td>\n",
       "      <td>rv</td>\n",
       "      <td>46.83107</td>\n",
       "      <td>42.27754</td>\n",
       "      <td>48848</td>\n",
       "    </tr>\n",
       "  </tbody>\n",
       "</table>\n",
       "</div>"
      ],
      "text/plain": [
       "         type state    enddate                  pollster grade  samplesize  \\\n",
       "0  polls-only  U.S. 2016-11-06  ABC News/Washington Post    A+      2220.0   \n",
       "1  polls-only  U.S. 2016-11-07   Google Consumer Surveys     B     26574.0   \n",
       "2  polls-only  U.S. 2016-11-06                     Ipsos     A      2195.0   \n",
       "3  polls-only  U.S. 2016-11-07                    YouGov     B      3677.0   \n",
       "4  polls-only  U.S. 2016-11-06          Gravis Marketing     B     16639.0   \n",
       "\n",
       "  population  adjpoll_clinton  adjpoll_trump  poll_id  \n",
       "0         lv         45.21947       41.70754    48630  \n",
       "1         lv         43.40083       41.14659    48847  \n",
       "2         lv         42.01984       38.74365    48922  \n",
       "3         lv         45.68214       40.90047    48687  \n",
       "4         rv         46.83107       42.27754    48848  "
      ]
     },
     "execution_count": 2,
     "metadata": {},
     "output_type": "execute_result"
    }
   ],
   "source": [
    "p_only = pd.read_hdf(\"results/df1.h5\", 'p_only')\n",
    "p_only.head()"
   ]
  },
  {
   "cell_type": "markdown",
   "metadata": {},
   "source": [
    "Let's do some bootstrap resampling on the poll data:"
   ]
  },
  {
   "cell_type": "code",
   "execution_count": 3,
   "metadata": {
    "collapsed": true
   },
   "outputs": [],
   "source": [
    "def bootstrap_resampling(data, n):\n",
    "    \"\"\" Bootstrap resample an array of data points.\n",
    "    \n",
    "    Parameters\n",
    "    ----------\n",
    "    X : array \n",
    "      array of data points to resample\n",
    "    n : int\n",
    "      desired length of resampled array\n",
    "    \n",
    "    Returns\n",
    "    -------\n",
    "    array \n",
    "    resampled array \n",
    "    \"\"\"\n",
    "    np.random.seed(5003)\n",
    "    resample_i = np.floor(np.random.rand(n)*len(data)).astype(int)\n",
    "    data_resample = data[resample_i]\n",
    "    return data_resample"
   ]
  },
  {
   "cell_type": "markdown",
   "metadata": {
    "collapsed": true
   },
   "source": [
    "Let's test this function to make sure it works:"
   ]
  },
  {
   "cell_type": "code",
   "execution_count": 4,
   "metadata": {
    "collapsed": true
   },
   "outputs": [],
   "source": [
    "def test_bootstrap_resampling():\n",
    "    #create array with 50,000 data points and ensure the returned resampled array has the same shape\n",
    "    test_array = np.arange(50000)\n",
    "    test_array_resample = bootstrap_resampling(test_array, 50000)\n",
    "    assert test_array_resample.shape == (50000,)\n",
    "    \n",
    "    #try it with a different shape\n",
    "    n = 37389\n",
    "    test_array_resample = bootstrap_resampling(test_array, 37389)\n",
    "    assert test_array_resample.shape == (37389,)\n",
    "\n",
    "test_bootstrap_resampling()"
   ]
  },
  {
   "cell_type": "markdown",
   "metadata": {},
   "source": [
    "Great! Now, let's use it with our Clinton and Trump poll data:"
   ]
  },
  {
   "cell_type": "code",
   "execution_count": 5,
   "metadata": {},
   "outputs": [
    {
     "data": {
      "text/plain": [
       "43.32251749524702"
      ]
     },
     "execution_count": 5,
     "metadata": {},
     "output_type": "execute_result"
    }
   ],
   "source": [
    "clinton_data = p_only[\"adjpoll_clinton\"]\n",
    "clinton_data.mean()"
   ]
  },
  {
   "cell_type": "code",
   "execution_count": 6,
   "metadata": {},
   "outputs": [
    {
     "data": {
      "text/plain": [
       "43.27061350047525"
      ]
     },
     "execution_count": 6,
     "metadata": {},
     "output_type": "execute_result"
    }
   ],
   "source": [
    "clinton_resampled = bootstrap_resampling(clinton_data, len(clinton_data))\n",
    "clinton_resampled.mean()"
   ]
  },
  {
   "cell_type": "code",
   "execution_count": 7,
   "metadata": {},
   "outputs": [
    {
     "data": {
      "text/plain": [
       "42.65442501116911"
      ]
     },
     "execution_count": 7,
     "metadata": {},
     "output_type": "execute_result"
    }
   ],
   "source": [
    "trump_data = p_only[\"adjpoll_trump\"]\n",
    "trump_data.mean()"
   ]
  },
  {
   "cell_type": "code",
   "execution_count": 8,
   "metadata": {},
   "outputs": [
    {
     "data": {
      "text/plain": [
       "42.62368282913505"
      ]
     },
     "execution_count": 8,
     "metadata": {},
     "output_type": "execute_result"
    }
   ],
   "source": [
    "trump_resampled = bootstrap_resampling(trump_data, len(trump_data))\n",
    "trump_resampled.mean()"
   ]
  }
 ],
 "metadata": {
  "kernelspec": {
   "display_name": "Python 3",
   "language": "python",
   "name": "python3"
  },
  "language_info": {
   "codemirror_mode": {
    "name": "ipython",
    "version": 3
   },
   "file_extension": ".py",
   "mimetype": "text/x-python",
   "name": "python",
   "nbconvert_exporter": "python",
   "pygments_lexer": "ipython3",
   "version": "3.6.2"
  }
 },
 "nbformat": 4,
 "nbformat_minor": 2
}

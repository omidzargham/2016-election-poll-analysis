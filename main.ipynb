{
 "cells": [
  {
   "cell_type": "markdown",
   "metadata": {},
   "source": [
    "# An analysis of the 2016 President Election\n",
    "\n",
    "**Authors: Ye Zhong, Yizhuang Kang, Omid Zargham**"
   ]
  },
  {
   "cell_type": "markdown",
   "metadata": {},
   "source": [
    "## Abstract\n",
    " The following paper explores and analyzes the president election result in 2016.  We found some poll prediction data and actual voting results from public websites.  Through panda package, we transferred all the raw data into dataframe, and kept what we needed for analysing.  In order to see why the results of 2016 election is different from what we predict, we first draw the boxplot of distribution of percentage poll votes each president got and scatter plot of percentage poll votes among a year before the actual election.  We then use statistical method of bootstrap to predict the election voting percentage through manipulating the poll results.  Later, we compared the original poll data, our prediction of percentage votes, and the actual percentage vote each president got to see if the 2016 election results different with our poll results and predictions.  Finally, we draw the conclusion that there are many issues happened before the 2016 election such as Clinton’s scandals, which changed people’s minds.  It was not reliable to only trust the poll data and predicted the actual vote.  As we could see that our poll data ended up grossly over-sampling Democrats and failing to account for Trump's \"hidden\" supporters. However, we could see the trends of people shifting from voting for Clinton to Trump as time goes by.  "
   ]
  },
  {
   "cell_type": "markdown",
   "metadata": {},
   "source": [
    "## Introduction\n",
    "The main purpose of our project is analysing the result of 2016 election and see why was it different from the public prediction.  The reason why we started our 2016 election results analysing with analysing the poll results before the election is that the poll prediction was the only data that we could use to predict and manipulate the results of 2016 election.  Like other data scientists did, we took the most recent poll data right before the election to draw the graph and see the trends of percentage voting for each president.  We could see that there were a huge shifting in percentage polling from Clinton to Trump when it got closer to the election.  Through evaluating the poll predictions, we could predict the actual election voting results, and try to figure out what were the reasons that the election results were different from our predictions. "
   ]
  },
  {
   "cell_type": "markdown",
   "metadata": {
    "collapsed": true
   },
   "source": [
    "## Part 1: \n",
    "To begin, we represented each speech in the dataset as a row in a Pandas dataframe, with information such as the date that we use to explore our given dataset. Using the date, we computed the numbers of speeches given in each month:\n",
    "<img src=\"fig/addresses_month.png\">\n",
    "Further exploration showed us a gap in the number of speeches, attributed to the dataset missing data for speeches made by Grover Cleveland in his second term between 1892 and 1897: \n",
    "<img src=\"fig/timeline.png\">\n",
    "Then, we represented the speeches as a list with each element being the raw text of each speech directly from the dataset. \n",
    "\n"
   ]
  },
  {
   "cell_type": "markdown",
   "metadata": {},
   "source": [
    "## Part 2: \n",
    "In part 2, we new package called plotly to make the scatter Plot of Adjusted Data by Time. Our graph shows the percentage of polls each president gets with the change of time frame.  Through out the whole year, the percentage of polls each president got changed.   \n",
    "\n",
    "\n",
    "\n",
    "We then created graphs to visualize the changes in the percentage polls each president got over time:\n",
    "<img src=\"fig/Percentage_change_among_time.jpeg\">\n",
    "The graph shows that comparing to Clinton, Trump began the election campaign with lower supportive figures. On the top right of the graph, we can see some polls indicate that Clinton had 80%-85% of the votes, which is so contraditary to the actual election result. However, we could see the trends of percentage of votes changes as time goes by. At the begining of 2016, Clinton got much higher percentage polls and gradually decreased through the year untile November 2016(right before the election.) In contrast, Trump received more and more percentage of polls through out the year. This probably gave us a sign of sharply increasing actual voting percentage in the election at the end of 2016.\n",
    "\n",
    "\n",
    "As we could see \n",
    "<img src=\"fig/boxplot_vote_among_time.jpeg\">\n",
    "\n",
    "We clean the data and combine some results together. So A+ represents the grade-A+ institutions, B represents B-,B,B+ combined together. So as C and D.\n",
    "According to the boxplot graph, the data did not include many reports from Grade-D institutions. Supprisingly, btoh grade-A+ and grade-A poll results indicate that Clinton has higher support rate than Trump. None of these indicates Trump has a higher rate than Clinton. Another surprise! On the boxplot of grade-B and grade-C, we see the data spread widely. The large range indicates that the public have a huge difference"
   ]
  },
  {
   "cell_type": "markdown",
   "metadata": {},
   "source": [
    "## Part 3: \n",
    "During part 3 of the project, we use the bootstrap to creat a function to generate the random sample repeatly.  After resampling Clinton and Trump's percentage of vote, we could predict that Clinton might receive 43.27% of the vote in the election, and Trump will revceive 42.65%.  Nonparametric bootstrap prediction will reduce the baises in the data set, and will be more accurate if the data is skewed.  Hence, from the prediction, we would say that Clinton might win the election with 1% more than Trump.  However, it would be really hard to say during the election since they got really close voting percentage."
   ]
  },
  {
   "cell_type": "markdown",
   "metadata": {},
   "source": [
    "## Part 4: \n",
    "Using the Term-Document matrix calculated in part 3, we normalize the word counts to convert the counts into probability distributions, for both the speeches grouped by president and for each speech individually. We then perform multidimensional scaling on the count probabilities via manifold learning, with a stress majorization optimization strategy, using euclidean distances and Jensen-Shannon Divergence as our difference metrics.\n",
    "\n",
    "The scatter plots of the word-document and president-aggregated word-document after being projected onto the planes of their stress majorizing axes, are as follows:\n",
    "\n",
    "<img src=\"fig/mds_naive.png\">\n",
    "\n",
    "<img src=\"fig/mds_naive_all.png\">\n",
    "\n",
    "<img src=\"fig/mds_jsdiv.png\">\n",
    "\n",
    "<img src=\"fig/mds_jdsiv_all.png\">\n",
    "\n",
    "\n"
   ]
  },
  {
   "cell_type": "markdown",
   "metadata": {},
   "source": [
    "## Part 5: \n",
    "In our p5, we import the data from previous notebooks, and the results file need to be transferred as numbers for the future use and analysis.  We first used for loop to go through all elements to get rid of the “%,” and we pd.to_numeric to make all strings in the dataframe result into numbers.  We create a state directory which includes all the state names and their abbreviation.  Using for loop to go through every state in our dataset and sum all the poll votes for Trump and Clinton.  We use the command “(clinton/trump * samplesize).sum()” to calculate the percentage poll vote they received.  Then, use append to create a new datalist that contains each presidents’ voting percentage, state names, and the total sample size called df_diff.  We sorted the values in the results file to make the state in the alphabetic order, so that it will match with our df_diff dataframe.  To calculate the percentage change in the poll data with the actual voting result, we subtract two columns, since we sorted the value for our results dataframe data, it matches the order in df_diff.  \n",
    "\n",
    "Visualizing the actual voting result, I draw the percentage of actual votes each president get in the election for each state.  "
   ]
  },
  {
   "cell_type": "markdown",
   "metadata": {},
   "source": [
    "<img src=\"fig/points_of_election_results.png\">"
   ]
  },
  {
   "cell_type": "markdown",
   "metadata": {},
   "source": [
    "Clinton is in blue and Trump is in red.  As we could see in the graph, both presidents got really close voting percentage in the 13 swings state, especially if we look closer, states like Florida, Wisconsin, Pennsylvania, Michigan, Minnesota, Trump got only slightly more voting percentage than Clinton, and their votes are really close.  Only Nevada and Marina swing to Clinton as both states had really close voting percentage as well.  Except for those states that had really close percentage voting for those two presidents, only California, District of Columbia, skewed their votes to Clinton.  There are 29 states have the red dots higher than the blue ones, which indicates that those states are all giving their states votes to Trump. This drew an absolutely advantages for Trump to win the election."
   ]
  },
  {
   "cell_type": "markdown",
   "metadata": {},
   "source": [
    "Why does the actual voting results be so different from our poll prediction?  Let’s visualize the percentage change in our poll predictions and actual voting results.  "
   ]
  },
  {
   "cell_type": "markdown",
   "metadata": {
    "collapsed": true
   },
   "source": [
    "<img src=\"fig/percentage_differences.png\">"
   ]
  },
  {
   "cell_type": "markdown",
   "metadata": {},
   "source": [
    "We draw the barplots of the percentage differences between the poll prediction and the actual vote each president got.  The negative barplot indicates that the president received less percentage of vote than the poll prediction.  The higher barplot is, the more percentage of votes president received than the poll prediction.  Blue indicates the Clinton's percentage differences, while the red barplot represents Trump.  There are 11 states have less percentage votes to Clinton, meanwhile, only 3 states give less percentage votes to Trump.  Through vertical comparison, we are able to conclude that most states increase their voting percentage to Trump than Clinton.  And many more states reduce their voting percentage to Clinton than Trump.  \n"
   ]
  },
  {
   "cell_type": "markdown",
   "metadata": {},
   "source": [
    "This concludes the reason why Trump received more votes in the actual election surprisingly, as many swinging states changed their votes to Trump.  We would actually see the reason why through notebook 3, after we use bootstrap to predict the presidency, the result was not accurate.  As many states and people changed their mind at last minute and it is unpredictable through the prediction data set.\n"
   ]
  },
  {
   "cell_type": "markdown",
   "metadata": {},
   "source": [
    "## Conclusion: \n",
    "As we could see that no matter if we compare the origin poll results or our bootstrap prediction results with the actual election, there are differences between the prediction and actual results.  Especially in the part 5 graphs, many states decreased their percentage voting for Clinton, and increased their voting for Trump.  And through the part 2 scatter plot, we saw the trends of red dots growing higher and higher to override those blue dots towards the end of our time frame.  We use the most recent poll prediction right before the election, and most of them were on November 6th, 7th, and 8th, which should represent and predict well of the actual election result.  However, the actual election results were still generating many percentage changes in some states.  We would conclude that even though we did everything to predict the election, there were still many influences that could various the actual results with our predictions.  And through the statistical method of prediction-bootstrap, we would see that those two presidents receive really close percentage of polls, and it would hard to predict with high confidence interval about who was going to win.  However, there might be some data collection errors that may influence the results of prediction.  \n",
    "\n"
   ]
  },
  {
   "cell_type": "markdown",
   "metadata": {},
   "source": [
    "First of all, Clinton did actually receive a slightly more votes than Trump, but many swing states shifted to Trump side, which drove the victory of Trump’s election.  As we could see it in part 5 graph, 11 states actually vote with less percentage for Clinton.\n",
    "Secondly, the poll over-sampling Democrats and failing to account for Trump's \"hidden\" supporters, who were embarrassed to admit even anonymously to pollsters that they planned to support Trump.  As we learned in Statistics analysing classes, there are some Type 2 errors which generated from data collection may influence our accuracy of prediction.  \n",
    "Thirdly, many voters were not actually voting after they told their preference of presidency.  With so many scandals happened to both Clinton (email scandal) and Trump (Russian scandal), many people gave up their rights of voting on the day of election.  This might shift the results of votes with nonvoting bias.\n"
   ]
  },
  {
   "cell_type": "markdown",
   "metadata": {},
   "source": [
    "In conclusion, we could use our statistical methods to predict the future results, but in reality, it was really hard for us to eliminate all the biases and changes.  We should never only rely on one source, but need to think more of the changes that may influence the final result."
   ]
  },
  {
   "cell_type": "code",
   "execution_count": null,
   "metadata": {
    "collapsed": true
   },
   "outputs": [],
   "source": []
  }
 ],
 "metadata": {
  "kernelspec": {
   "display_name": "Python 3",
   "language": "python",
   "name": "python3"
  },
  "language_info": {
   "codemirror_mode": {
    "name": "ipython",
    "version": 3
   },
   "file_extension": ".py",
   "mimetype": "text/x-python",
   "name": "python",
   "nbconvert_exporter": "python",
   "pygments_lexer": "ipython3",
   "version": "3.6.1"
  }
 },
 "nbformat": 4,
 "nbformat_minor": 2
}

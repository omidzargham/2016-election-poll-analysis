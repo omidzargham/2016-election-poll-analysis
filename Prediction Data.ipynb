{
 "cells": [
  {
   "cell_type": "markdown",
   "metadata": {},
   "source": [
    "# An Prediction of 2016 Election Result"
   ]
  },
  {
   "cell_type": "code",
   "execution_count": 1,
   "metadata": {},
   "outputs": [
    {
     "ename": "ModuleNotFoundError",
     "evalue": "No module named 'pattern'",
     "output_type": "error",
     "traceback": [
      "\u001b[0;31m---------------------------------------------------------------------------\u001b[0m",
      "\u001b[0;31mModuleNotFoundError\u001b[0m                       Traceback (most recent call last)",
      "\u001b[0;32m<ipython-input-1-9c6e84f3e496>\u001b[0m in \u001b[0;36m<module>\u001b[0;34m()\u001b[0m\n\u001b[1;32m     11\u001b[0m \u001b[0;32mimport\u001b[0m \u001b[0mrequests\u001b[0m\u001b[0;34m\u001b[0m\u001b[0m\n\u001b[1;32m     12\u001b[0m \u001b[0;32mimport\u001b[0m \u001b[0mbs4\u001b[0m\u001b[0;34m\u001b[0m\u001b[0m\n\u001b[0;32m---> 13\u001b[0;31m \u001b[0;32mfrom\u001b[0m \u001b[0mpattern\u001b[0m \u001b[0;32mimport\u001b[0m \u001b[0mweb\u001b[0m\u001b[0;34m\u001b[0m\u001b[0m\n\u001b[0m\u001b[1;32m     14\u001b[0m \u001b[0;34m\u001b[0m\u001b[0m\n\u001b[1;32m     15\u001b[0m \u001b[0;32mfrom\u001b[0m \u001b[0mcollections\u001b[0m \u001b[0;32mimport\u001b[0m \u001b[0mCounter\u001b[0m\u001b[0;34m\u001b[0m\u001b[0m\n",
      "\u001b[0;31mModuleNotFoundError\u001b[0m: No module named 'pattern'"
     ]
    }
   ],
   "source": [
    "%matplotlib inline\n",
    "import matplotlib.pyplot as plt\n",
    "import numpy as np\n",
    "import pandas as pd\n",
    "import seaborn as sns\n",
    "\n",
    "from fnmatch import fnmatch\n",
    "import numpy as np\n",
    "import pandas as pd\n",
    "import matplotlib.pyplot as plt\n",
    "import requests\n",
    "import bs4\n",
    "from pattern import web\n",
    "\n",
    "from collections import Counter\n",
    "import shelve\n",
    "\n",
    "plt.style.use('seaborn-dark')\n",
    "plt.rcParams['figure.figsize'] = (10, 6)"
   ]
  },
  {
   "cell_type": "markdown",
   "metadata": {},
   "source": [
    "Load the data set from http://charts.realclearpolitics.com/charts/%i.xml and transfer the url link into actual text."
   ]
  },
  {
   "cell_type": "code",
   "execution_count": 8,
   "metadata": {
    "collapsed": true
   },
   "outputs": [],
   "source": [
    "def get_poll_xml(poll_id):\n",
    "    url = \"http://charts.realclearpolitics.com/charts/%i.xml\" % int(poll_id)\n",
    "    return requests.get(url).text"
   ]
  },
  {
   "cell_type": "markdown",
   "metadata": {},
   "source": [
    "## Distance between speeches\n",
    "\n",
    "### By President\n",
    "\n",
    "Let's first compute a few useful things we'll need later, like the unique set of all presidents and their initials (for plot labeling)."
   ]
  },
  {
   "cell_type": "markdown",
   "metadata": {},
   "source": [
    "Now, make a dataframe that will contain the word counts aggregated by president:"
   ]
  },
  {
   "cell_type": "code",
   "execution_count": 11,
   "metadata": {
    "collapsed": true,
    "scrolled": true
   },
   "outputs": [],
   "source": [
    "import xml.etree.ElementTree as ET\n",
    "\n",
    "def rcp_poll_data(input):\n",
    "    tree = ET.fromstring(input)\n",
    "    dictionary = dict()\n",
    "    \n",
    "    dates = list()\n",
    "    series = tree.findall('series')\n",
    "    for value in series[0].findall('value'):\n",
    "        dates.append(value.text)\n",
    "    dictionary['date'] = pd.to_datetime(dates)\n",
    "\n",
    "    graphs = tree.findall('graphs/graph')\n",
    "    for graph in graphs:\n",
    "            values = list()\n",
    "            title = graph.get('title')\n",
    "            for value in graph.findall('value'):\n",
    "                try:\n",
    "                    values.append(float(str(value.text)))\n",
    "                except:\n",
    "                    values.append(value.text)\n",
    "            dictionary[title] = values\n",
    "    \n",
    "    df = pd.DataFrame(dictionary)\n",
    "    df_clean = df.dropna()\n",
    "    return df_clean\n"
   ]
  },
  {
   "cell_type": "code",
   "execution_count": 12,
   "metadata": {
    "collapsed": true
   },
   "outputs": [],
   "source": [
    "import re\n",
    "\n",
    "def find_governor_races(url):\n",
    "    text = requests.get(url).text\n",
    "    links = re.findall('http://www.realclearpolitics.com/epolls/\\d{4}/governor/\\D{2}/.*?-\\d{,4}.html',text)\n",
    "    links = list(set(links))\n",
    "    return links"
   ]
  },
  {
   "cell_type": "markdown",
   "metadata": {},
   "source": [
    "And `pmn` is a normalized version that turns counts into probability distributions:"
   ]
  },
  {
   "cell_type": "code",
   "execution_count": 13,
   "metadata": {
    "collapsed": true
   },
   "outputs": [],
   "source": [
    "def race_result(url):\n",
    "    page = requests.get(url).text\n",
    "    soup = BeautifulSoup(page, 'html.parser')\n",
    "    tables = soup.findAll('table', {'class': 'data'})\n",
    "    table = tables[0]\n",
    "    rows = [row for row in table.find_all(\"tr\")]\n",
    "    columns = [str(col.get_text()) for col in rows[0].find_all(\"th\")]\n",
    "    candidates = [column.split('(')[0].strip() for column in columns[3:-1]]\n",
    "\n",
    "    row = rows[1]\n",
    "    tds = row.find_all(\"td\")\n",
    "    results = [float(str(t.get_text())) for t in tds[3:-1]]\n",
    "    # convert to percentage \n",
    "    tot = sum(results)/100 \n",
    " \n",
    "    return {l:r / tot for l, r in zip(candidates, results)}"
   ]
  },
  {
   "cell_type": "markdown",
   "metadata": {},
   "source": [
    "Sanity check: all columns should sum to 1."
   ]
  },
  {
   "cell_type": "code",
   "execution_count": 14,
   "metadata": {
    "collapsed": true
   },
   "outputs": [],
   "source": [
    "def plot_colors(xml):\n",
    "    dom = web.Element(xml)\n",
    "    result = {}\n",
    "    for graph in dom.by_tag('graph'):\n",
    "        title = _strip(graph.attributes['title'])\n",
    "        result[title] = graph.attributes['color']\n",
    "    return result"
   ]
  },
  {
   "cell_type": "markdown",
   "metadata": {},
   "source": [
    "Make a numpy array version to use with Scikit-Learn:"
   ]
  },
  {
   "cell_type": "code",
   "execution_count": 15,
   "metadata": {
    "collapsed": true
   },
   "outputs": [],
   "source": [
    "def poll_plot(poll_id):\n",
    "    xml = get_poll_xml(poll_id)\n",
    "    data = rcp_poll_data(xml)\n",
    "    colors = plot_colors(xml)\n",
    "    data = data.rename(columns = {c: _strip(c) for c in data.columns})\n",
    "\n",
    "    #normalize poll numbers so they add to 100%    \n",
    "    norm = data[colors.keys()].sum(axis=1) / 100    \n",
    "    for c in colors.keys():\n",
    "        data[c] /= norm\n",
    "    \n",
    "    for label, color in colors.items():\n",
    "        plt.plot(data.date, data[label], color=color, label=label)        \n",
    "        \n",
    "    plt.xticks(rotation=70)\n",
    "    plt.legend(loc='best')\n",
    "    plt.xlabel(\"Date\")\n",
    "    plt.ylabel(\"Normalized Poll Percentage\")"
   ]
  },
  {
   "cell_type": "markdown",
   "metadata": {},
   "source": [
    "You can use the JSdiv function below as-is, it already works."
   ]
  },
  {
   "cell_type": "code",
   "execution_count": 16,
   "metadata": {},
   "outputs": [
    {
     "ename": "NameError",
     "evalue": "name 'web' is not defined",
     "output_type": "error",
     "traceback": [
      "\u001b[0;31m---------------------------------------------------------------------------\u001b[0m",
      "\u001b[0;31mNameError\u001b[0m                                 Traceback (most recent call last)",
      "\u001b[0;32m<ipython-input-16-9b3bb21a4c83>\u001b[0m in \u001b[0;36m<module>\u001b[0;34m()\u001b[0m\n\u001b[0;32m----> 1\u001b[0;31m \u001b[0mpoll_plot\u001b[0m\u001b[0;34m(\u001b[0m\u001b[0;36m1113\u001b[0m\u001b[0;34m)\u001b[0m\u001b[0;34m\u001b[0m\u001b[0m\n\u001b[0m",
      "\u001b[0;32m<ipython-input-15-df41cd22af9a>\u001b[0m in \u001b[0;36mpoll_plot\u001b[0;34m(poll_id)\u001b[0m\n\u001b[1;32m      2\u001b[0m     \u001b[0mxml\u001b[0m \u001b[0;34m=\u001b[0m \u001b[0mget_poll_xml\u001b[0m\u001b[0;34m(\u001b[0m\u001b[0mpoll_id\u001b[0m\u001b[0;34m)\u001b[0m\u001b[0;34m\u001b[0m\u001b[0m\n\u001b[1;32m      3\u001b[0m     \u001b[0mdata\u001b[0m \u001b[0;34m=\u001b[0m \u001b[0mrcp_poll_data\u001b[0m\u001b[0;34m(\u001b[0m\u001b[0mxml\u001b[0m\u001b[0;34m)\u001b[0m\u001b[0;34m\u001b[0m\u001b[0m\n\u001b[0;32m----> 4\u001b[0;31m     \u001b[0mcolors\u001b[0m \u001b[0;34m=\u001b[0m \u001b[0mplot_colors\u001b[0m\u001b[0;34m(\u001b[0m\u001b[0mxml\u001b[0m\u001b[0;34m)\u001b[0m\u001b[0;34m\u001b[0m\u001b[0m\n\u001b[0m\u001b[1;32m      5\u001b[0m     \u001b[0mdata\u001b[0m \u001b[0;34m=\u001b[0m \u001b[0mdata\u001b[0m\u001b[0;34m.\u001b[0m\u001b[0mrename\u001b[0m\u001b[0;34m(\u001b[0m\u001b[0mcolumns\u001b[0m \u001b[0;34m=\u001b[0m \u001b[0;34m{\u001b[0m\u001b[0mc\u001b[0m\u001b[0;34m:\u001b[0m \u001b[0m_strip\u001b[0m\u001b[0;34m(\u001b[0m\u001b[0mc\u001b[0m\u001b[0;34m)\u001b[0m \u001b[0;32mfor\u001b[0m \u001b[0mc\u001b[0m \u001b[0;32min\u001b[0m \u001b[0mdata\u001b[0m\u001b[0;34m.\u001b[0m\u001b[0mcolumns\u001b[0m\u001b[0;34m}\u001b[0m\u001b[0;34m)\u001b[0m\u001b[0;34m\u001b[0m\u001b[0m\n\u001b[1;32m      6\u001b[0m \u001b[0;34m\u001b[0m\u001b[0m\n",
      "\u001b[0;32m<ipython-input-14-9674c691be52>\u001b[0m in \u001b[0;36mplot_colors\u001b[0;34m(xml)\u001b[0m\n\u001b[1;32m      1\u001b[0m \u001b[0;32mdef\u001b[0m \u001b[0mplot_colors\u001b[0m\u001b[0;34m(\u001b[0m\u001b[0mxml\u001b[0m\u001b[0;34m)\u001b[0m\u001b[0;34m:\u001b[0m\u001b[0;34m\u001b[0m\u001b[0m\n\u001b[0;32m----> 2\u001b[0;31m     \u001b[0mdom\u001b[0m \u001b[0;34m=\u001b[0m \u001b[0mweb\u001b[0m\u001b[0;34m.\u001b[0m\u001b[0mElement\u001b[0m\u001b[0;34m(\u001b[0m\u001b[0mxml\u001b[0m\u001b[0;34m)\u001b[0m\u001b[0;34m\u001b[0m\u001b[0m\n\u001b[0m\u001b[1;32m      3\u001b[0m     \u001b[0mresult\u001b[0m \u001b[0;34m=\u001b[0m \u001b[0;34m{\u001b[0m\u001b[0;34m}\u001b[0m\u001b[0;34m\u001b[0m\u001b[0m\n\u001b[1;32m      4\u001b[0m     \u001b[0;32mfor\u001b[0m \u001b[0mgraph\u001b[0m \u001b[0;32min\u001b[0m \u001b[0mdom\u001b[0m\u001b[0;34m.\u001b[0m\u001b[0mby_tag\u001b[0m\u001b[0;34m(\u001b[0m\u001b[0;34m'graph'\u001b[0m\u001b[0;34m)\u001b[0m\u001b[0;34m:\u001b[0m\u001b[0;34m\u001b[0m\u001b[0m\n\u001b[1;32m      5\u001b[0m         \u001b[0mtitle\u001b[0m \u001b[0;34m=\u001b[0m \u001b[0m_strip\u001b[0m\u001b[0;34m(\u001b[0m\u001b[0mgraph\u001b[0m\u001b[0;34m.\u001b[0m\u001b[0mattributes\u001b[0m\u001b[0;34m[\u001b[0m\u001b[0;34m'title'\u001b[0m\u001b[0;34m]\u001b[0m\u001b[0;34m)\u001b[0m\u001b[0;34m\u001b[0m\u001b[0m\n",
      "\u001b[0;31mNameError\u001b[0m: name 'web' is not defined"
     ]
    }
   ],
   "source": [
    "poll_plot(1113)"
   ]
  },
  {
   "cell_type": "markdown",
   "metadata": {},
   "source": [
    "This is a \"naive\" plot where we use the $L^2$ distance to build the embedding."
   ]
  },
  {
   "cell_type": "code",
   "execution_count": 9,
   "metadata": {
    "collapsed": true
   },
   "outputs": [],
   "source": [
    "def id_from_url(url):\n",
    "    \"\"\"Given a URL, look up the RCP identifier number\"\"\"\n",
    "    return url.split('-')[-1].split('.html')[0]\n",
    "\n",
    "def plot_race(url):\n",
    "    \"\"\"Make a plot summarizing the historical poll data and the actual results\n",
    "    \"\"\"\n",
    "    id = id_from_url(url)\n",
    "    xml = get_poll_xml(id)    \n",
    "    colors = plot_colors(xml)\n",
    "    if len(colors) == 0:\n",
    "        return\n",
    "    result = race_result(url)\n",
    "    poll_plot(id)\n",
    "    plt.xlabel(\"Date\")\n",
    "    plt.ylabel(\"Polling Percentage\")\n",
    "    for r in result:\n",
    "        plt.axhline(result[r], color=colors[_strip(r)], alpha=0.6, ls='--')"
   ]
  },
  {
   "cell_type": "code",
   "execution_count": null,
   "metadata": {
    "collapsed": true
   },
   "outputs": [],
   "source": [
    "euclidean_embedding_df = pd.DataFrame(euclidean_embedding, columns=['x', 'y'])\n",
    "euclidean_embedding_df['presidents'] = pres_mat.columns"
   ]
  },
  {
   "cell_type": "markdown",
   "metadata": {},
   "source": [
    "This will be more informative if we make a little utility function for the plots, that carries a legend, annotates each point with the president's initials, and colors them all:"
   ]
  },
  {
   "cell_type": "code",
   "execution_count": 10,
   "metadata": {
    "collapsed": true
   },
   "outputs": [],
   "source": [
    "def plot_embedding(data, title='MDS Embedding', savepath=None, palette='viridis', \n",
    "                   size=7, annotate='initials'):\n",
    "    \"\"\"Plot an MDS embedding dataframe for all presidents.\n",
    "    \n",
    "    Uses Seaborn's `lmplot` to create an x-y scatterplot of the data, encoding the \n",
    "    value of the `President` field into the hue (which can be mapped to any desired\n",
    "    color palette).\n",
    "    \n",
    "    Parameters\n",
    "    ----------\n",
    "    data : DataFrame\n",
    "        A DataFrame that must contain 3 columns labeled 'x', 'y' and 'President'.\n",
    "        \n",
    "    title : optional, string\n",
    "        Title for the plot\n",
    "        \n",
    "    savepath : optional, string\n",
    "        If given, a path to save the figure into using matplotlib's `savefig`.\n",
    "        \n",
    "    palette : optional, string\n",
    "        The name of a valid Seaborn palette for coloring the points.\n",
    "    \n",
    "    size : optional, float\n",
    "        Size of the plot in inches (single number, square plot)\n",
    "        \n",
    "    annotate: optional, 'initials', 'name' or False\n",
    "        If 'initials', annotate each point with the intials of each president,\n",
    "        if 'name', use their last name, and if False, do not annotate at all.\n",
    "        \n",
    "    Returns\n",
    "    -------\n",
    "    FacetGrid\n",
    "        The Seaborn FacetGrid object used to create the plot.\n",
    "    \"\"\"\n",
    "    # First, get the annotations as required\n",
    "    if annotate == 'initials':\n",
    "        annotations = []\n",
    "        for name in data.presidents.str.split():\n",
    "            this_initial = \"\"\n",
    "            for word in name:\n",
    "                this_initial += word[0]\n",
    "        \n",
    "            annotations.append(this_initial)\n",
    "    \n",
    "    elif annotate == 'name':\n",
    "        annotations = []\n",
    "        for name in data.presidents.str.split():\n",
    "            annotations.append(name[-1])\n",
    "            \n",
    "        \n",
    "    # Next, build the plot\n",
    "    myPlot = sns.lmplot('x', 'y', data, size=size, aspect=1, hue='presidents', palette=palette, fit_reg=False, x_ci=None, ci=None)\n",
    "    if annotate:\n",
    "        for label, x, y in zip(annotations, data.x, data.y):\n",
    "            plt.annotate(label, xy=(x, y))\n",
    "        \n",
    "    # Save if necessary\n",
    "    if savepath:\n",
    "        myPlot.savefig(savepath)\n",
    "    \n",
    "    # Add title if necessary\n",
    "    if title:\n",
    "        plt.title(title)\n",
    "    \n",
    "    return myPlot"
   ]
  },
  {
   "cell_type": "code",
   "execution_count": 11,
   "metadata": {},
   "outputs": [
    {
     "ename": "NameError",
     "evalue": "name 'embed_peu' is not defined",
     "output_type": "error",
     "traceback": [
      "\u001b[0;31m---------------------------------------------------------------------------\u001b[0m",
      "\u001b[0;31mNameError\u001b[0m                                 Traceback (most recent call last)",
      "\u001b[0;32m<ipython-input-11-d1179c2474db>\u001b[0m in \u001b[0;36m<module>\u001b[0;34m()\u001b[0m\n\u001b[0;32m----> 1\u001b[0;31m \u001b[0mplot_embedding\u001b[0m\u001b[0;34m(\u001b[0m\u001b[0membed_peu\u001b[0m\u001b[0;34m,\u001b[0m \u001b[0;34m'Naive MDS - euclidean distance'\u001b[0m\u001b[0;34m,\u001b[0m \u001b[0;34m'fig/mds_naive.png'\u001b[0m\u001b[0;34m,\u001b[0m \u001b[0mannotate\u001b[0m\u001b[0;34m=\u001b[0m\u001b[0;34m'name'\u001b[0m\u001b[0;34m)\u001b[0m\u001b[0;34m;\u001b[0m\u001b[0;34m\u001b[0m\u001b[0m\n\u001b[0m",
      "\u001b[0;31mNameError\u001b[0m: name 'embed_peu' is not defined"
     ]
    }
   ],
   "source": [
    "plot_embedding(euclidean_embedding_df, 'Naive MDS - euclidean distance', 'fig/mds_naive.png', annotate='name');"
   ]
  },
  {
   "cell_type": "markdown",
   "metadata": {},
   "source": [
    "Now we use a distance metric defined on probability mass functions, the Jensen-Shannon Metric."
   ]
  },
  {
   "cell_type": "code",
   "execution_count": null,
   "metadata": {
    "collapsed": true
   },
   "outputs": [],
   "source": [
    "# Calculating dissimilarity matrix from jensen-shannon metric\n",
    "JSM_dissim = np.zeros((len(pmm), len(pmm)))\n",
    "for i in range(len(JSM_dissim)):\n",
    "    for j in range(len(JSM_dissim)):\n",
    "        JSM_dissim[i][j] = JSdiv(pmm[i], pmm[j])\n",
    "# Applying MDS on this dissimilarity matrix\n",
    "JSM_MDS = MDS(verbose=1, n_jobs=3, dissimilarity='precomputed')\n",
    "JSM_embedding = JSM_MDS.fit_transform(JSM_dissim)"
   ]
  },
  {
   "cell_type": "code",
   "execution_count": null,
   "metadata": {
    "collapsed": true
   },
   "outputs": [],
   "source": [
    "JSM_embedding_df = pd.DataFrame(JSM_embedding, columns=['x', 'y'])\n",
    "JSM_embedding_df['presidents'] = pres_mat.columns"
   ]
  },
  {
   "cell_type": "code",
   "execution_count": null,
   "metadata": {
    "collapsed": true
   },
   "outputs": [],
   "source": [
    "plot_embedding(JSM_embedding_df, 'MDS - Jensen-Shannon Distance', 'fig/mds_jsdiv.png', annotate='name');"
   ]
  },
  {
   "cell_type": "markdown",
   "metadata": {
    "collapsed": true
   },
   "source": [
    "### By Speech\n",
    "First we normalize the term-document matrix"
   ]
  },
  {
   "cell_type": "code",
   "execution_count": null,
   "metadata": {
    "collapsed": true
   },
   "outputs": [],
   "source": [
    "# Computing normalized TDM\n",
    "normalized_tdm = []\n",
    "for i in range(len(wmat.columns)):\n",
    "    normalized_tdm.append(normalize(wmat.iloc[:,i]))\n",
    "normalized_tdm = pd.DataFrame(np.array(normalized_tdm).T, columns = wmat.columns)\n",
    "normalized_tdm.columns = addresses.president\n",
    "normalized_tdm = normalized_tdm.T"
   ]
  },
  {
   "cell_type": "markdown",
   "metadata": {},
   "source": [
    "We make a similar naive plot embedding using the $L^2$ distance."
   ]
  },
  {
   "cell_type": "code",
   "execution_count": null,
   "metadata": {
    "collapsed": true
   },
   "outputs": [],
   "source": [
    "normalized_tdm = normalized_tdm.T"
   ]
  },
  {
   "cell_type": "code",
   "execution_count": null,
   "metadata": {
    "collapsed": true
   },
   "outputs": [],
   "source": [
    "euclidean_embedding_df = pd.DataFrame(euclidean_embedding, columns=['x', 'y'])\n",
    "euclidean_embedding_df['presidents'] = normalized_tdm.index"
   ]
  },
  {
   "cell_type": "code",
   "execution_count": null,
   "metadata": {
    "collapsed": true
   },
   "outputs": [],
   "source": [
    "plot_embedding(euclidean_embedding_df, 'Naive MDS - euclidean distance, all speeches',\n",
    "               'fig/mds_naive_all.png', size=10);"
   ]
  },
  {
   "cell_type": "markdown",
   "metadata": {},
   "source": [
    "Now with the Jensen-Shannon metric"
   ]
  },
  {
   "cell_type": "code",
   "execution_count": null,
   "metadata": {
    "collapsed": true
   },
   "outputs": [],
   "source": [
    "# Calculating dissimilarity matrix from jensen-shannon metric\n",
    "JSM_dissim = np.zeros((len(normalized_tdm), len(normalized_tdm)))\n",
    "for i in range(len(JSM_dissim)):\n",
    "    for j in range(len(JSM_dissim)):\n",
    "        JSM_dissim[i][j] = JSdiv(normalized_tdm[i], normalized_tdm[j])"
   ]
  },
  {
   "cell_type": "code",
   "execution_count": null,
   "metadata": {
    "collapsed": true
   },
   "outputs": [],
   "source": [
    "JSM_MDS = MDS(verbose=1, dissimilarity='precomputed', random_state=1)\n",
    "JSM_embedding = JSM_MDS.fit_transform(JSM_dissim)\n",
    "JSM_embedding_df = pd.DataFrame(JSM_embedding, columns=['x', 'y'])\n",
    "JSM_embedding_df['presidents'] = normalized_tdm.index"
   ]
  },
  {
   "cell_type": "code",
   "execution_count": null,
   "metadata": {
    "collapsed": true
   },
   "outputs": [],
   "source": [
    "plot_embedding(JSM_embedding_df, 'Naive MDS - Jensen-Shannon distance, all speeches', \n",
    "               'fig/mds_jdsiv_all.png', size=10);"
   ]
  },
  {
   "cell_type": "markdown",
   "metadata": {},
   "source": [
    "Store some final results. For native numpy arrays, we can use the convenient numpy `npz` container format, which behaves in practice similar to the Pandas HDF5 store and the Python Shelves:"
   ]
  },
  {
   "cell_type": "code",
   "execution_count": null,
   "metadata": {
    "collapsed": true
   },
   "outputs": [],
   "source": [
    "np.savez('results/npa4.npz', pmm=pmm)"
   ]
  }
 ],
 "metadata": {
  "kernelspec": {
   "display_name": "Python 3",
   "language": "python",
   "name": "python3"
  },
  "language_info": {
   "codemirror_mode": {
    "name": "ipython",
    "version": 3
   },
   "file_extension": ".py",
   "mimetype": "text/x-python",
   "name": "python",
   "nbconvert_exporter": "python",
   "pygments_lexer": "ipython3",
   "version": "3.6.1"
  }
 },
 "nbformat": 4,
 "nbformat_minor": 2
}

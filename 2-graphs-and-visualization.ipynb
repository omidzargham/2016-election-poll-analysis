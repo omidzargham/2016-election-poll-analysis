{
 "cells": [
  {
   "cell_type": "markdown",
   "metadata": {},
   "source": [
    "Let's import the data from previous notebook."
   ]
  },
  {
   "cell_type": "code",
   "execution_count": 1,
   "metadata": {
    "collapsed": true
   },
   "outputs": [],
   "source": [
    "import pandas as pd\n",
    "p_only = pd.read_hdf(\"results/df1.h5\", 'p_only')"
   ]
  },
  {
   "cell_type": "code",
   "execution_count": 2,
   "metadata": {},
   "outputs": [
    {
     "data": {
      "text/html": [
       "<div>\n",
       "<style>\n",
       "    .dataframe thead tr:only-child th {\n",
       "        text-align: right;\n",
       "    }\n",
       "\n",
       "    .dataframe thead th {\n",
       "        text-align: left;\n",
       "    }\n",
       "\n",
       "    .dataframe tbody tr th {\n",
       "        vertical-align: top;\n",
       "    }\n",
       "</style>\n",
       "<table border=\"1\" class=\"dataframe\">\n",
       "  <thead>\n",
       "    <tr style=\"text-align: right;\">\n",
       "      <th></th>\n",
       "      <th>type</th>\n",
       "      <th>state</th>\n",
       "      <th>enddate</th>\n",
       "      <th>pollster</th>\n",
       "      <th>grade</th>\n",
       "      <th>samplesize</th>\n",
       "      <th>population</th>\n",
       "      <th>adjpoll_clinton</th>\n",
       "      <th>adjpoll_trump</th>\n",
       "      <th>poll_id</th>\n",
       "    </tr>\n",
       "  </thead>\n",
       "  <tbody>\n",
       "    <tr>\n",
       "      <th>0</th>\n",
       "      <td>polls-only</td>\n",
       "      <td>U.S.</td>\n",
       "      <td>2016-11-06</td>\n",
       "      <td>ABC News/Washington Post</td>\n",
       "      <td>A+</td>\n",
       "      <td>2220.0</td>\n",
       "      <td>lv</td>\n",
       "      <td>45.21947</td>\n",
       "      <td>41.70754</td>\n",
       "      <td>48630</td>\n",
       "    </tr>\n",
       "    <tr>\n",
       "      <th>1</th>\n",
       "      <td>polls-only</td>\n",
       "      <td>U.S.</td>\n",
       "      <td>2016-11-07</td>\n",
       "      <td>Google Consumer Surveys</td>\n",
       "      <td>B</td>\n",
       "      <td>26574.0</td>\n",
       "      <td>lv</td>\n",
       "      <td>43.40083</td>\n",
       "      <td>41.14659</td>\n",
       "      <td>48847</td>\n",
       "    </tr>\n",
       "    <tr>\n",
       "      <th>2</th>\n",
       "      <td>polls-only</td>\n",
       "      <td>U.S.</td>\n",
       "      <td>2016-11-06</td>\n",
       "      <td>Ipsos</td>\n",
       "      <td>A</td>\n",
       "      <td>2195.0</td>\n",
       "      <td>lv</td>\n",
       "      <td>42.01984</td>\n",
       "      <td>38.74365</td>\n",
       "      <td>48922</td>\n",
       "    </tr>\n",
       "    <tr>\n",
       "      <th>3</th>\n",
       "      <td>polls-only</td>\n",
       "      <td>U.S.</td>\n",
       "      <td>2016-11-07</td>\n",
       "      <td>YouGov</td>\n",
       "      <td>B</td>\n",
       "      <td>3677.0</td>\n",
       "      <td>lv</td>\n",
       "      <td>45.68214</td>\n",
       "      <td>40.90047</td>\n",
       "      <td>48687</td>\n",
       "    </tr>\n",
       "    <tr>\n",
       "      <th>4</th>\n",
       "      <td>polls-only</td>\n",
       "      <td>U.S.</td>\n",
       "      <td>2016-11-06</td>\n",
       "      <td>Gravis Marketing</td>\n",
       "      <td>B</td>\n",
       "      <td>16639.0</td>\n",
       "      <td>rv</td>\n",
       "      <td>46.83107</td>\n",
       "      <td>42.27754</td>\n",
       "      <td>48848</td>\n",
       "    </tr>\n",
       "  </tbody>\n",
       "</table>\n",
       "</div>"
      ],
      "text/plain": [
       "         type state    enddate                  pollster grade  samplesize  \\\n",
       "0  polls-only  U.S. 2016-11-06  ABC News/Washington Post    A+      2220.0   \n",
       "1  polls-only  U.S. 2016-11-07   Google Consumer Surveys     B     26574.0   \n",
       "2  polls-only  U.S. 2016-11-06                     Ipsos     A      2195.0   \n",
       "3  polls-only  U.S. 2016-11-07                    YouGov     B      3677.0   \n",
       "4  polls-only  U.S. 2016-11-06          Gravis Marketing     B     16639.0   \n",
       "\n",
       "  population  adjpoll_clinton  adjpoll_trump  poll_id  \n",
       "0         lv         45.21947       41.70754    48630  \n",
       "1         lv         43.40083       41.14659    48847  \n",
       "2         lv         42.01984       38.74365    48922  \n",
       "3         lv         45.68214       40.90047    48687  \n",
       "4         rv         46.83107       42.27754    48848  "
      ]
     },
     "execution_count": 2,
     "metadata": {},
     "output_type": "execute_result"
    }
   ],
   "source": [
    "p_only.head()"
   ]
  },
  {
   "cell_type": "code",
   "execution_count": 3,
   "metadata": {},
   "outputs": [
    {
     "ename": "ModuleNotFoundError",
     "evalue": "No module named 'plotly'",
     "output_type": "error",
     "traceback": [
      "\u001b[0;31m---------------------------------------------------------------------------\u001b[0m",
      "\u001b[0;31mModuleNotFoundError\u001b[0m                       Traceback (most recent call last)",
      "\u001b[0;32m<ipython-input-3-62a388fd1885>\u001b[0m in \u001b[0;36m<module>\u001b[0;34m()\u001b[0m\n\u001b[1;32m      6\u001b[0m \u001b[0;32mimport\u001b[0m \u001b[0mmatplotlib\u001b[0m \u001b[0;32mas\u001b[0m \u001b[0mmpl\u001b[0m\u001b[0;34m\u001b[0m\u001b[0m\n\u001b[1;32m      7\u001b[0m \u001b[0;32mimport\u001b[0m \u001b[0mmatplotlib\u001b[0m\u001b[0;34m.\u001b[0m\u001b[0mpyplot\u001b[0m \u001b[0;32mas\u001b[0m \u001b[0mplt\u001b[0m\u001b[0;34m\u001b[0m\u001b[0m\n\u001b[0;32m----> 8\u001b[0;31m \u001b[0;32mfrom\u001b[0m \u001b[0mplotly\u001b[0m \u001b[0;32mimport\u001b[0m \u001b[0mtools\u001b[0m\u001b[0;34m\u001b[0m\u001b[0m\n\u001b[0m\u001b[1;32m      9\u001b[0m \u001b[0;32mimport\u001b[0m \u001b[0mplotly\u001b[0m\u001b[0;34m.\u001b[0m\u001b[0mplotly\u001b[0m \u001b[0;32mas\u001b[0m \u001b[0mpy\u001b[0m\u001b[0;34m\u001b[0m\u001b[0m\n\u001b[1;32m     10\u001b[0m \u001b[0;32mimport\u001b[0m \u001b[0mplotly\u001b[0m\u001b[0;34m.\u001b[0m\u001b[0mgraph_objs\u001b[0m \u001b[0;32mas\u001b[0m \u001b[0mgo\u001b[0m\u001b[0;34m\u001b[0m\u001b[0m\n",
      "\u001b[0;31mModuleNotFoundError\u001b[0m: No module named 'plotly'"
     ]
    }
   ],
   "source": [
    "%matplotlib inline\n",
    "import numpy as np\n",
    "import pandas as pd\n",
    "import seaborn as sns\n",
    "from scipy import stats\n",
    "import matplotlib as mpl\n",
    "import matplotlib.pyplot as plt\n",
    "from plotly import tools\n",
    "import plotly.plotly as py\n",
    "import plotly.graph_objs as go\n",
    "\n",
    "import plotly.plotly as py\n",
    "py.sign_in('kenzhongye', '6uw3LUlEIvYM54EyrI3Q')\n"
   ]
  },
  {
   "cell_type": "markdown",
   "metadata": {},
   "source": [
    "We are visualizing the voting data through plotly.  We did the scatter Plot of Adjusted Data by Time.  Our graph shows the percentage of polls each president gets with the change of time frame."
   ]
  },
  {
   "cell_type": "code",
   "execution_count": null,
   "metadata": {
    "collapsed": true
   },
   "outputs": [],
   "source": [
    "\n",
    "fig = {\n",
    "    'data':[\n",
    "        #Clinton Data\n",
    "        {\n",
    "            'name':\"Clinton\", \n",
    "            'x':p_only.loc[:,'enddate'], \n",
    "            'y':p_only.loc[:,'adjpoll_clinton'],\n",
    "            'mode':'markers', 'marker':{'color':'blue', 'opacity':0.1}},\n",
    "        #Trump Data\n",
    "        {   \n",
    "            'name':\"Trump\",\n",
    "            'x':p_only.loc[:,'enddate'], \n",
    "            'y':p_only.loc[:,'adjpoll_trump'],\n",
    "            'mode':'markers', 'marker':{'color':'red', 'opacity':0.1}},\n",
    "    ],\n",
    "    'layout':{\n",
    "        'title':\"Election Poll Data: Clinton vs Trump\",\n",
    "        #change the title and x-axis, y-axis names.\n",
    "        'xaxis':{'title':\"Date\", \n",
    "                 'range':[min(p_only.loc[:, 'enddate']) - pd.DateOffset(months=1), \n",
    "                                max(p_only.loc[:, 'enddate']) + pd.DateOffset(months=1)]},\n",
    "        'yaxis':{'title':\"Percentage\", \n",
    "                 'range':[0, 100], 'tick0':0, 'dtick':10},\n",
    "        #set the range of our graph from 0 to 100 as percentage.\n",
    "        'plot_bgcolor':'ghostwhite', 'paper_bgcolor':'ghostwhite'}\n",
    "}\n",
    "\n",
    "py.iplot(fig, filename='Election Poll Data: Clinton vs Trump')"
   ]
  },
  {
   "cell_type": "markdown",
   "metadata": {
    "collapsed": true
   },
   "source": [
    "Plot can be seen here: https://plot.ly/~kenzhongye/2/adjusted-poll-data/\n",
    "The graph shows that comparing to Clinton, Trump began the election campaign with lower supportive figures. \n",
    "On the top right of the graph, we can see some polls indicate that Clinton had 80%-85% of the votes, which is so contraditary to the actual election result.\n",
    "However, we could see the trends of percentage of votes changes as time goes by. At the begining of 2016, Clinton got much higher percentage polls and gradually decreased through the year untile November 2016(right before the election.)  In contrast, Trump received more and more percentage of polls through out the year.  This probably gave us a sign of sharply increasing actual voting percentage in the election at the end of 2016."
   ]
  },
  {
   "cell_type": "code",
   "execution_count": null,
   "metadata": {
    "collapsed": true
   },
   "outputs": [],
   "source": [
    "# Boxplot of Adjusted Data by Grade\n",
    "df_grade = pd.read_hdf(\"results/df2.h5\", 'df_grade')\n",
    "\n",
    "trace_Clinton = go.Box(\n",
    "    name=\"Clinton\",\n",
    "    x=df_grade.loc[:,'grade'], \n",
    "    y=df_grade.loc[:, 'adjpoll_clinton'],\n",
    "    marker=dict(color='blue'))\n",
    "trace_Trump = go.Box(\n",
    "    name=\"Trump\",\n",
    "    x=df_grade.loc[:, 'grade'], \n",
    "    y=df_grade.loc[:, 'adjpoll_trump'], \n",
    "    marker=dict(color='red'))\n",
    "\n",
    "data = [trace_Clinton, trace_Trump]\n",
    "layout = go.Layout(\n",
    "    title=\"Boxplot of Adjusted Poll Data by Grade\",\n",
    "    yaxis=dict(title=\"Percentage\", range=[0, 100], tick0=0, dtick=10, zeroline=False), \n",
    "    boxmode='group', \n",
    "    plot_bgcolor='ghostwhite', paper_bgcolor='ghostwhite')\n",
    "fig = go.Figure(data=data, layout=layout)\n",
    "\n",
    "py.iplot(fig, filename='Boxplot of Adjusted Poll Data by Grade')\n"
   ]
  },
  {
   "cell_type": "markdown",
   "metadata": {
    "collapsed": true
   },
   "source": [
    "Graph can be seen here: https://plot.ly/~kenzhongye/4/boxplot-of-adjusted-poll-data-by-grade/\n",
    "\n",
    "We clean the data and combine some results together. \n",
    "So A+ represents the grade-A+ institutions, \n",
    "B represents B-,B,B+ combined together. So as C and D.\n",
    "\n",
    "According to the boxplot graph, the data did not include many reports from Grade-D institutions. \n",
    "Supprisingly, btoh grade-A+ and grade-A poll results indicate that Clinton has higher support rate than Trump.\n",
    "None of these indicates Trump has a higher rate than Clinton. Another surprise! \n",
    "On the boxplot of grade-B and grade-C, we see the data spread widely. The large range indicates that the public have a huge difference"
   ]
  }
 ],
 "metadata": {
  "kernelspec": {
   "display_name": "Python 3",
   "language": "python",
   "name": "python3"
  },
  "language_info": {
   "codemirror_mode": {
    "name": "ipython",
    "version": 3
   },
   "file_extension": ".py",
   "mimetype": "text/x-python",
   "name": "python",
   "nbconvert_exporter": "python",
   "pygments_lexer": "ipython3",
   "version": "3.6.2"
  }
 },
 "nbformat": 4,
 "nbformat_minor": 2
}
